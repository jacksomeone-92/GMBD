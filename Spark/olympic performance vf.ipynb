{
 "cells": [
  {
   "cell_type": "markdown",
   "metadata": {},
   "source": [
    "# Topic to be determined\n",
    "\n",
    "The analysis of the olympic games and athlete data is going to be done the following way:\n",
    "\n",
    "1. PySpark **environment setup**\n",
    "2. Data source and **Spark data abstraction** (DataFrame) **set up**\n",
    "3. Data set **metadata analysis**:\n",
    "  1. Display **schema and size** of the DataFrame\n",
    "  2. Get one or multiple **random samples** from the data set to better understand what the data is all about\n",
    "  3. Identify **data entities**, **metrics** and **dimensions**\n",
    "4. Columns groups **basic profiling** to better understand our data set:\n",
    "\n",
    "  1. **Human attributes related** columns basic profiling\n",
    "  2. **Time / Games / Location related** columns basic profiling\n",
    "  3. **Performance related** columns basic profiling\n",
    "5. **Answer some questions about olympic performance** to enable athletes and coaches to better understand future performance\n",
    "  1. **Top 20 most successful olympic athletes** in terms of medals won\n",
    "  2. **Top 20 countries with the most medals won** absolute and relative against number of athletes\n",
    "  3. **Exploring physical attributes of winning athletes** how do they compare against other athletes in their sports?\n",
    "\n",
    "Let's go for it:\n",
    "\n",
    "## 1. PySpark environment setup"
   ]
  },
  {
   "cell_type": "code",
   "execution_count": 6,
   "metadata": {},
   "outputs": [],
   "source": [
    "import findspark\n",
    "findspark.init()\n",
    "\n",
    "from pyspark.context import SparkContext\n",
    "from pyspark.sql.session import SparkSession\n",
    "\n",
    "sc = SparkContext.getOrCreate()\n",
    "spark = SparkSession(sc)"
   ]
  },
  {
   "cell_type": "markdown",
   "metadata": {},
   "source": [
    "## 2. Data source and Spark data abstraction (DataFrame) setup"
   ]
  },
  {
   "cell_type": "markdown",
   "metadata": {},
   "source": [
    "The dataset used for the analysis can be found and downloaded here: https://www.kaggle.com/heesoo37/120-years-of-olympic-history-athletes-and-results"
   ]
  },
  {
   "cell_type": "code",
   "execution_count": 7,
   "metadata": {},
   "outputs": [],
   "source": [
    "from pyspark.sql.types import StructType, StructField, IntegerType, DoubleType, StringType\n",
    "\n",
    "olympicSchema = StructType(\\\n",
    "                          [StructField(\"ID\",IntegerType(),True),\\\n",
    "                           StructField(\"Name\",StringType(),True),\\\n",
    "                           StructField(\"Sex\",StringType(),True),\\\n",
    "                           StructField(\"Age\",IntegerType(),True),\\\n",
    "                           StructField(\"Height\",IntegerType(),True),\\\n",
    "                           StructField(\"Weight\",IntegerType(),True),\\\n",
    "                           StructField(\"Team\",StringType(),True),\\\n",
    "                           StructField(\"NOC\",StringType(),True),\\\n",
    "                           StructField(\"Games\",StringType(),True),\\\n",
    "                           StructField(\"Year\",StringType(),True),\\\n",
    "                           StructField(\"Season\",StringType(),True),\\\n",
    "                           StructField(\"City\",StringType(),True),\\\n",
    "                           StructField(\"Sport\",StringType(),True),\\\n",
    "                           StructField(\"Event\",StringType(),True),\\\n",
    "                           StructField(\"Medal\",StringType(),True)])\n",
    "olympicDF = spark.read.schema(olympicSchema).option(\"header\", \"true\").option(\"sep\", \",\").option(\"multiLine\", \"true\").option(\"escape\", \"\\\"\").csv(\"athlete_events.csv\")"
   ]
  },
  {
   "cell_type": "markdown",
   "metadata": {},
   "source": [
    "## 3. Data set metadata analysis\n",
    "### A. Display schema and size of the DataFrame"
   ]
  },
  {
   "cell_type": "code",
   "execution_count": 8,
   "metadata": {},
   "outputs": [
    {
     "name": "stdout",
     "output_type": "stream",
     "text": [
      "root\n",
      " |-- ID: integer (nullable = true)\n",
      " |-- Name: string (nullable = true)\n",
      " |-- Sex: string (nullable = true)\n",
      " |-- Age: integer (nullable = true)\n",
      " |-- Height: integer (nullable = true)\n",
      " |-- Weight: integer (nullable = true)\n",
      " |-- Team: string (nullable = true)\n",
      " |-- NOC: string (nullable = true)\n",
      " |-- Games: string (nullable = true)\n",
      " |-- Year: string (nullable = true)\n",
      " |-- Season: string (nullable = true)\n",
      " |-- City: string (nullable = true)\n",
      " |-- Sport: string (nullable = true)\n",
      " |-- Event: string (nullable = true)\n",
      " |-- Medal: string (nullable = true)\n",
      "\n"
     ]
    },
    {
     "data": {
      "text/markdown": [
       "This DataFrame has **271116 rows**."
      ],
      "text/plain": [
       "<IPython.core.display.Markdown object>"
      ]
     },
     "metadata": {},
     "output_type": "display_data"
    }
   ],
   "source": [
    "from IPython.display import display, Markdown\n",
    "\n",
    "olympicDF.printSchema()\n",
    "display(Markdown(\"This DataFrame has **%d rows**.\" % olympicDF.count()))"
   ]
  },
  {
   "cell_type": "markdown",
   "metadata": {},
   "source": [
    "### B. Get one or multiple random samples from the data set"
   ]
  },
  {
   "cell_type": "code",
   "execution_count": 9,
   "metadata": {
    "scrolled": true
   },
   "outputs": [
    {
     "data": {
      "text/plain": [
       "[Row(ID=2, Name='A Lamusi', Sex='M', Age=23, Height=170, Weight=60, Team='China', NOC='CHN', Games='2012 Summer', Year='2012', Season='Summer', City='London', Sport='Judo', Event=\"Judo Men's Extra-Lightweight\", Medal='NA'),\n",
       " Row(ID=5, Name='Christine Jacoba Aaftink', Sex='F', Age=21, Height=185, Weight=82, Team='Netherlands', NOC='NED', Games='1988 Winter', Year='1988', Season='Winter', City='Calgary', Sport='Speed Skating', Event=\"Speed Skating Women's 1,000 metres\", Medal='NA')]"
      ]
     },
     "execution_count": 9,
     "metadata": {},
     "output_type": "execute_result"
    }
   ],
   "source": [
    "olympicDF.cache() # optimization to make the processing faster\n",
    "olympicDF.sample(False, 0.1).take(2)"
   ]
  },
  {
   "cell_type": "markdown",
   "metadata": {},
   "source": [
    "We identified the following variables / columns:\n",
    "\n",
    "    ID - Unique number for each athlete;\n",
    "    Name - Athlete's name;\n",
    "    Sex - M or F;\n",
    "    Age - Integer;\n",
    "    Height - In centimeters;\n",
    "    Weight - In kilograms;\n",
    "    Team - Team name;\n",
    "    NOC - National Olympic Committee 3-letter code;\n",
    "    Games - Year and season;\n",
    "    Year - Integer;\n",
    "    Season - Summer or Winter;\n",
    "    City - Host city;\n",
    "    Sport - Sport;\n",
    "    Event - Event;\n",
    "    Medal - Gold, Silver, Bronze, or NA."
   ]
  },
  {
   "cell_type": "markdown",
   "metadata": {},
   "source": [
    "### C. Data entities, metrics and dimensions\n",
    "\n",
    "The following elements were identified:\n",
    "\n",
    "* **Entities:** ID, Name \n",
    "* **Metrics:** Age, Height, Weight, Medal\n",
    "* **Dimensions:** Sex, Team, NOC, Games, Year, Season, City, Sport, Event\n",
    "\n",
    "### D. Column categorization\n",
    "\n",
    "The following could be a potential column categorization:\n",
    "\n",
    "* **Human attributes related columns:** *Sex*, *Age*, *Height*, *Weight*\n",
    "* **Time / Games / Location columns:** *Team*, *NOC*, *Games*, *Year*, *Season*, *City*, *Sport*, *Event*\n",
    "* **Performance related columns:** *Medal*\n",
    "\n",
    "## 4. Column groups basic profiling to better understand our data set\n",
    "### A. Human attributes columns basic profiling"
   ]
  },
  {
   "cell_type": "code",
   "execution_count": 55,
   "metadata": {
    "scrolled": false
   },
   "outputs": [
    {
     "data": {
      "text/markdown": [
       "**Summary** of columns **Sex**, **Age**, **Height** and **Weight**:"
      ],
      "text/plain": [
       "<IPython.core.display.Markdown object>"
      ]
     },
     "metadata": {},
     "output_type": "display_data"
    },
    {
     "name": "stdout",
     "output_type": "stream",
     "text": [
      "+-------+------+------------------+------------------+------------------+\n",
      "|summary|   Sex|               Age|            Height|            Weight|\n",
      "+-------+------+------------------+------------------+------------------+\n",
      "|  count|271116|            261642|            210945|            207183|\n",
      "|   mean|  null|25.556898357297374|175.33896987366376| 70.68149413803256|\n",
      "| stddev|  null| 6.393560847035836|10.518462222679204|14.329645879565714|\n",
      "|    min|     F|                10|               127|                25|\n",
      "|    25%|  null|                21|               168|                60|\n",
      "|    50%|  null|                24|               175|                70|\n",
      "|    75%|  null|                28|               183|                79|\n",
      "|    max|     M|                97|               226|               214|\n",
      "+-------+------+------------------+------------------+------------------+\n",
      "\n"
     ]
    },
    {
     "data": {
      "text/markdown": [
       "Checking for **nulls** in all columns:"
      ],
      "text/plain": [
       "<IPython.core.display.Markdown object>"
      ]
     },
     "metadata": {},
     "output_type": "display_data"
    },
    {
     "name": "stdout",
     "output_type": "stream",
     "text": [
      "+---+----+---+----+------+------+----+---+-----+----+------+----+-----+-----+-----+\n",
      "| ID|Name|Sex| Age|Height|Weight|Team|NOC|Games|Year|Season|City|Sport|Event|Medal|\n",
      "+---+----+---+----+------+------+----+---+-----+----+------+----+-----+-----+-----+\n",
      "|  0|   0|  0|9474| 60171| 63933|   0|  0|    0|   0|     0|   0|    0|    0|    0|\n",
      "+---+----+---+----+------+------+----+---+-----+----+------+----+-----+-----+-----+\n",
      "\n"
     ]
    },
    {
     "data": {
      "text/markdown": [
       "Checking amount of **distinct values** in columns **Age**, **Height** and **Weight**:"
      ],
      "text/plain": [
       "<IPython.core.display.Markdown object>"
      ]
     },
     "metadata": {},
     "output_type": "display_data"
    },
    {
     "name": "stdout",
     "output_type": "stream",
     "text": [
      "+---+------+------+\n",
      "|Age|Height|Weight|\n",
      "+---+------+------+\n",
      "| 74|    95|   142|\n",
      "+---+------+------+\n",
      "\n"
     ]
    }
   ],
   "source": [
    "from IPython.display import display, Markdown\n",
    "from pyspark.sql.functions import when, count, col, countDistinct, desc, first, lit, mean, min, max, avg, countDistinct, round\n",
    "\n",
    "display(Markdown(\"**Summary** of columns **Sex**, **Age**, **Height** and **Weight**:\"))\n",
    "olympicDF.select(\"Sex\",\"Age\",\"Height\",\"Weight\").summary().show()\n",
    "\n",
    "display(Markdown(\"Checking for **nulls** in all columns:\"))\n",
    "olympicDF.select([count(when(col(c).isNull(), c)).alias(c) for c in [\"ID\", \"Name\",\"Sex\",\"Age\",\"Height\",\"Weight\",\"Team\", \"NOC\", \"Games\", \"Year\", \"Season\", \"City\", \"Sport\", \"Event\", \"Medal\"]]).show()\n",
    "\n",
    "display(Markdown(\"Checking amount of **distinct values** in columns **Age**, **Height** and **Weight**:\"))\n",
    "olympicDF.select([countDistinct(c).alias(c) for c in [\"Age\",\"Height\",\"Weight\"]]).show()"
   ]
  },
  {
   "cell_type": "code",
   "execution_count": 30,
   "metadata": {
    "collapsed": true
   },
   "outputs": [
    {
     "name": "stdout",
     "output_type": "stream",
     "text": [
      "Requirement already satisfied: pyspark-dist-explore in /home/osbdet/.local/lib/python3.7/site-packages (0.1.8)\n",
      "Requirement already satisfied: scipy in /home/osbdet/.local/lib/python3.7/site-packages (from pyspark-dist-explore) (1.5.2)\n",
      "Requirement already satisfied: matplotlib in /home/osbdet/.local/lib/python3.7/site-packages (from pyspark-dist-explore) (3.3.2)\n",
      "Requirement already satisfied: pandas in /home/osbdet/.local/lib/python3.7/site-packages (from pyspark-dist-explore) (1.1.2)\n",
      "Requirement already satisfied: numpy in /usr/local/lib/python3.7/dist-packages (from pyspark-dist-explore) (1.19.1)\n",
      "Requirement already satisfied: kiwisolver>=1.0.1 in /home/osbdet/.local/lib/python3.7/site-packages (from matplotlib->pyspark-dist-explore) (1.2.0)\n",
      "Requirement already satisfied: pyparsing!=2.0.4,!=2.1.2,!=2.1.6,>=2.0.3 in /usr/local/lib/python3.7/dist-packages (from matplotlib->pyspark-dist-explore) (2.4.7)\n",
      "Requirement already satisfied: certifi>=2020.06.20 in /home/osbdet/.local/lib/python3.7/site-packages (from matplotlib->pyspark-dist-explore) (2020.6.20)\n",
      "Requirement already satisfied: pillow>=6.2.0 in /home/osbdet/.local/lib/python3.7/site-packages (from matplotlib->pyspark-dist-explore) (7.2.0)\n",
      "Requirement already satisfied: cycler>=0.10 in /home/osbdet/.local/lib/python3.7/site-packages (from matplotlib->pyspark-dist-explore) (0.10.0)\n",
      "Requirement already satisfied: python-dateutil>=2.1 in /usr/local/lib/python3.7/dist-packages (from matplotlib->pyspark-dist-explore) (2.8.1)\n",
      "Requirement already satisfied: pytz>=2017.2 in /home/osbdet/.local/lib/python3.7/site-packages (from pandas->pyspark-dist-explore) (2020.1)\n",
      "Requirement already satisfied: six in /usr/lib/python3/dist-packages (from cycler>=0.10->matplotlib->pyspark-dist-explore) (1.12.0)\n",
      "Note: you may need to restart the kernel to use updated packages.\n"
     ]
    }
   ],
   "source": [
    "pip install pyspark-dist-explore"
   ]
  },
  {
   "cell_type": "code",
   "execution_count": 52,
   "metadata": {},
   "outputs": [],
   "source": [
    "#replace null values in the df with mean value\n",
    "from pyspark.ml.feature import Imputer\n",
    "\n",
    "imputer = Imputer(inputCols=[\"Age\",\"Height\",\"Weight\"], outputCols=[\"Age1\",\"Height1\",\"Weight1\"])\n",
    "model = imputer.fit(olympicDF)\n",
    "\n",
    "olympicDF = model.transform(olympicDF)"
   ]
  },
  {
   "cell_type": "code",
   "execution_count": 56,
   "metadata": {},
   "outputs": [
    {
     "data": {
      "text/markdown": [
       "Checking for **nulls** in all columns:"
      ],
      "text/plain": [
       "<IPython.core.display.Markdown object>"
      ]
     },
     "metadata": {},
     "output_type": "display_data"
    },
    {
     "name": "stdout",
     "output_type": "stream",
     "text": [
      "+---+----+-------+-------+---+----+----+---+-----+----+------+----+-----+-----+-----+\n",
      "|Sex|Age1|Height1|Weight1| ID|Name|Team|NOC|Games|Year|Season|City|Sport|Event|Medal|\n",
      "+---+----+-------+-------+---+----+----+---+-----+----+------+----+-----+-----+-----+\n",
      "|  0|   0|      0|      0|  0|   0|   0|  0|    0|   0|     0|   0|    0|    0|    0|\n",
      "+---+----+-------+-------+---+----+----+---+-----+----+------+----+-----+-----+-----+\n",
      "\n"
     ]
    }
   ],
   "source": [
    "#check\n",
    "display(Markdown(\"Checking for **nulls** in all columns:\"))\n",
    "olympicDF.select([count(when(col(c).isNull(), c)).alias(c) for c in [\"Sex\",\"Age1\",\"Height1\",\"Weight1\",\"ID\", \"Name\",\"Team\", \"NOC\", \"Games\", \"Year\", \"Season\", \"City\", \"Sport\", \"Event\", \"Medal\"]]).show()"
   ]
  },
  {
   "cell_type": "code",
   "execution_count": 62,
   "metadata": {},
   "outputs": [
    {
     "data": {
      "text/plain": [
       "array([[<AxesSubplot:title={'center':'Height'}>]], dtype=object)"
      ]
     },
     "execution_count": 62,
     "metadata": {},
     "output_type": "execute_result"
    },
    {
     "data": {
      "image/png": "[encoded data removed]",
      "text/plain": [
       "<Figure size 432x288 with 1 Axes>"
      ]
     },
     "metadata": {
      "needs_background": "light"
     },
     "output_type": "display_data"
    },
    {
     "data": {
      "image/png": "[encoded data removed]",
      "text/plain": [
       "<Figure size 432x288 with 1 Axes>"
      ]
     },
     "metadata": {
      "needs_background": "light"
     },
     "output_type": "display_data"
    },
    {
     "data": {
      "image/png": "[encoded data removed]",
      "text/plain": [
       "<Figure size 432x288 with 1 Axes>"
      ]
     },
     "metadata": {
      "needs_background": "light"
     },
     "output_type": "display_data"
    }
   ],
   "source": [
    "#display histograms for numeric columns (let's disregard the imputed missing values for now)\n",
    "import pandas as pd\n",
    "olympic_viz = olympicDF.toPandas()\n",
    "olympic_viz.hist(\"Age\", bins = 40)\n",
    "olympic_viz.hist(\"Weight\", bins = 40)\n",
    "olympic_viz.hist(\"Height\", bins = 40)"
   ]
  },
  {
   "cell_type": "code",
   "execution_count": 33,
   "metadata": {
    "scrolled": true
   },
   "outputs": [
    {
     "data": {
      "text/markdown": [
       "Min, max and average values for **Age**, **Height** and **Weight** columns per sport:"
      ],
      "text/plain": [
       "<IPython.core.display.Markdown object>"
      ]
     },
     "metadata": {},
     "output_type": "display_data"
    },
    {
     "name": "stdout",
     "output_type": "stream",
     "text": [
      "+-------------------------+-------+-------+-------+----------+----------+----------+----------+----------+----------+\n",
      "|Sport                    |min_Age|avg_Age|max_Age|min_Height|avg_Height|max_Height|min_Weight|avg_Weight|max_Weight|\n",
      "+-------------------------+-------+-------+-------+----------+----------+----------+----------+----------+----------+\n",
      "|Gymnastics               |10     |22.83  |49     |127       |166.57    |188       |25        |61.04     |102       |\n",
      "|Tennis                   |13     |25.81  |47     |150       |177.78    |208       |48        |70.56     |111       |\n",
      "|Boxing                   |15     |23.16  |41     |127       |173.35    |208       |46        |66.42     |140       |\n",
      "|Ice Hockey               |15     |25.83  |48     |150       |178.26    |206       |47        |78.83     |116       |\n",
      "|Golf                     |15     |29.19  |50     |157       |174.62    |196       |48        |70.52     |104       |\n",
      "|Rowing                   |11     |25.26  |60     |132       |181.86    |209       |37        |77.5      |137       |\n",
      "|Judo                     |14     |25.33  |43     |143       |174.27    |213       |46        |77.72     |214       |\n",
      "|Softball                 |17     |26.3   |41     |150       |169.75    |198       |45        |67.67     |109       |\n",
      "|Sailing                  |13     |30.06  |71     |150       |177.45    |213       |48        |74.42     |130       |\n",
      "|Swimming                 |11     |20.67  |46     |131       |177.94    |209       |39        |70.48     |114       |\n",
      "|Alpine Skiing            |14     |23.22  |55     |142       |173.91    |200       |45        |71.48     |107       |\n",
      "|Basketball               |16     |25.31  |40     |161       |188.58    |226       |50        |82.78     |156       |\n",
      "|Handball                 |14     |26.3   |43     |140       |182.66    |214       |48        |80.46     |132       |\n",
      "|Equestrianism            |16     |34.11  |72     |148       |174.55    |197       |43        |68.43     |100       |\n",
      "|Rhythmic Gymnastics      |13     |18.74  |30     |142       |168.15    |181       |30        |50.15     |70        |\n",
      "|Biathlon                 |17     |26.53  |45     |150       |174.09    |200       |45        |66.83     |95        |\n",
      "|Triathlon                |18     |27.87  |42     |153       |173.65    |196       |44        |61.86     |82        |\n",
      "|Badminton                |16     |25.67  |44     |150       |174.22    |201       |43        |68.29     |97        |\n",
      "|Croquet                  |15     |31.89  |58     |175       |175.0     |175       |70        |70.0      |70        |\n",
      "|Athletics                |12     |25.16  |52     |142       |176.07    |208       |35        |69.35     |165       |\n",
      "|Alpinism                 |22     |33.84  |57     |175       |175.0     |175       |70        |70.0      |70        |\n",
      "|Figure Skating           |11     |22.26  |52     |137       |170.07    |193       |32        |63.12     |90        |\n",
      "|Beach Volleyball         |18     |29.12  |41     |163       |185.77    |212       |55        |78.67     |110       |\n",
      "|Racquets                 |19     |28.67  |45     |175       |175.17    |176       |70        |70.0      |70        |\n",
      "|Aeronautics              |26     |26.0   |26     |175       |175.0     |175       |70        |70.0      |70        |\n",
      "|Polo                     |21     |34.79  |53     |169       |175.02    |178       |70        |70.0      |70        |\n",
      "|Shooting                 |15     |32.82  |72     |132       |174.04    |213       |40        |72.57     |140       |\n",
      "|Diving                   |12     |22.59  |51     |137       |168.88    |188       |28        |63.32     |91        |\n",
      "|Skeleton                 |18     |29.78  |53     |157       |176.05    |198       |51        |73.64     |127       |\n",
      "|Rugby Sevens             |18     |26.05  |36     |153       |175.36    |198       |53        |78.94     |113       |\n",
      "|Roque                    |25     |46.25  |64     |175       |175.0     |175       |70        |70.0      |70        |\n",
      "|Basque Pelota            |26     |26.0   |26     |175       |175.0     |175       |70        |70.0      |70        |\n",
      "|Ski Jumping              |14     |23.36  |43     |152       |176.19    |200       |43        |65.99     |85        |\n",
      "|Nordic Combined          |15     |24.35  |39     |160       |176.25    |193       |53        |67.54     |86        |\n",
      "|Wrestling                |15     |25.74  |50     |137       |173.03    |214       |42        |74.05     |190       |\n",
      "|Speed Skating            |13     |24.31  |52     |149       |174.26    |203       |46        |70.03     |100       |\n",
      "|Table Tennis             |15     |26.46  |54     |145       |171.57    |198       |42        |65.38     |120       |\n",
      "|Taekwondo                |16     |24.06  |37     |150       |176.73    |207       |46        |67.79     |110       |\n",
      "|Canoeing                 |15     |25.5   |48     |151       |178.19    |205       |48        |75.8      |115       |\n",
      "|Water Polo               |14     |25.63  |45     |154       |182.13    |206       |50        |80.32     |125       |\n",
      "|Weightlifting            |15     |25.48  |45     |140       |169.52    |205       |47        |77.58     |170       |\n",
      "|Tug-Of-War               |17     |28.19  |45     |170       |176.1     |195       |70        |77.84     |118       |\n",
      "|Baseball                 |16     |26.24  |44     |147       |182.19    |206       |38        |84.86     |120       |\n",
      "|Modern Pentathlon        |15     |26.34  |53     |152       |177.27    |198       |42        |70.23     |91        |\n",
      "|Cricket                  |21     |28.25  |44     |175       |175.0     |175       |70        |70.0      |70        |\n",
      "|Snowboarding             |14     |24.83  |40     |150       |173.09    |194       |43        |69.55     |102       |\n",
      "|Bobsleigh                |15     |29.01  |54     |153       |179.78    |211       |55        |83.92     |145       |\n",
      "|Rugby                    |18     |24.57  |39     |164       |175.42    |191       |68        |71.4      |99        |\n",
      "|Cycling                  |14     |24.79  |49     |136       |175.81    |201       |45        |70.04     |104       |\n",
      "|Trampolining             |18     |25.14  |39     |154       |166.64    |185       |43        |59.53     |84        |\n",
      "|Cross Country Skiing     |15     |26.0   |49     |150       |173.53    |200       |42        |66.69     |100       |\n",
      "|Short Track Speed Skating|13     |22.8   |35     |150       |170.25    |191       |43        |64.48     |86        |\n",
      "|Volleyball               |15     |25.18  |41     |153       |186.57    |219       |30        |78.57     |120       |\n",
      "|Archery                  |14     |27.83  |71     |152       |173.5     |197       |42        |70.01     |130       |\n",
      "|Synchronized Swimming    |15     |22.38  |40     |153       |168.8     |185       |39        |56.78     |104       |\n",
      "|Curling                  |17     |31.41  |58     |148       |174.23    |197       |45        |71.89     |105       |\n",
      "|Military Ski Patrol      |20     |24.0   |32     |175       |175.0     |175       |70        |70.0      |70        |\n",
      "|Fencing                  |14     |28.3   |63     |152       |176.4     |208       |44        |70.85     |108       |\n",
      "|Hockey                   |15     |25.69  |44     |138       |173.69    |200       |45        |69.35     |105       |\n",
      "|Freestyle Skiing         |13     |24.43  |44     |149       |171.06    |197       |43        |67.15     |108       |\n",
      "|Jeu De Paume             |19     |32.45  |43     |175       |175.64    |181       |70        |70.0      |70        |\n",
      "|Lacrosse                 |14     |26.12  |37     |168       |174.97    |180       |60        |70.78     |98        |\n",
      "|Football                 |15     |23.77  |40     |140       |175.28    |200       |28        |70.3      |100       |\n",
      "|Luge                     |15     |24.63  |53     |153       |176.55    |199       |48        |76.77     |112       |\n",
      "|Motorboating             |25     |32.35  |54     |175       |175.35    |181       |70        |70.41     |77        |\n",
      "|Art Competitions         |14     |42.94  |97     |150       |174.99    |190       |59        |70.08     |93        |\n",
      "+-------------------------+-------+-------+-------+----------+----------+----------+----------+----------+----------+\n",
      "\n"
     ]
    }
   ],
   "source": [
    "display(Markdown(\"Min, max and average values for **Age**, **Height** and **Weight** columns per sport:\"))\n",
    "olympicDF.groupBy(\"Sport\")\\\n",
    "    .agg(min(\"Age1\").alias(\"min_Age\"),\\\n",
    "         round(avg(\"Age1\"),2).alias(\"avg_Age\"),\n",
    "         max(\"Age1\").alias(\"max_Age\"),\n",
    "         min(\"Height1\").alias(\"min_Height\"),\n",
    "         round(avg(\"Height1\"),2).alias(\"avg_Height\"),\n",
    "         max(\"Height1\").alias(\"max_Height\"),\n",
    "         min(\"Weight1\").alias(\"min_Weight\"),\n",
    "         round(avg(\"Weight1\"),2).alias(\"avg_Weight\"),\n",
    "         max(\"Weight1\").alias(\"max_Weight\"))\\\n",
    "     .show(200,False)"
   ]
  },
  {
   "cell_type": "code",
   "execution_count": 34,
   "metadata": {},
   "outputs": [
    {
     "data": {
      "text/markdown": [
       "Most and least frequent occurrences for **Age**, **Height** and **Weight** columns:"
      ],
      "text/plain": [
       "<IPython.core.display.Markdown object>"
      ]
     },
     "metadata": {},
     "output_type": "display_data"
    },
    {
     "data": {
      "text/markdown": [
       "\n",
       "| leastFreqAge | mostFreqAge | leastFreqHeight | mostFreqHeight |\n",
       "|----|----|----|----|\n",
       "| 96 (1 occurrences) | 25 (29181 occurrences) | 128 (1 occurrences) | 175 (70491 occurrences) |\n"
      ],
      "text/plain": [
       "<IPython.core.display.Markdown object>"
      ]
     },
     "metadata": {},
     "output_type": "display_data"
    },
    {
     "data": {
      "text/markdown": [
       "\n",
       "| leastFreqWeight | mostFreqWeight |\n",
       "|----|----|\n",
       "| 190 (1 occurrences) | 70 (73558 occurrences) | \n"
      ],
      "text/plain": [
       "<IPython.core.display.Markdown object>"
      ]
     },
     "metadata": {},
     "output_type": "display_data"
    }
   ],
   "source": [
    "display(Markdown(\"Most and least frequent occurrences for **Age**, **Height** and **Weight** columns:\"))\n",
    "AgeOccurrencesDF = olympicDF.groupBy(\"Age1\").agg(count(lit(1)).alias(\"Total\"))\n",
    "HeightOccurencesDF = olympicDF.groupBy(\"Height1\").agg(count(lit(1)).alias(\"Total\"))\n",
    "WeightOccurencesDF = olympicDF.groupBy(\"Weight1\").agg(count(lit(1)).alias(\"Total\"))\n",
    "\n",
    "leastFreqAge    = AgeOccurrencesDF.orderBy(col(\"Total\").asc()).first()\n",
    "mostFreqAge     = AgeOccurrencesDF.orderBy(col(\"Total\").desc()).first()\n",
    "leastFreqHeight    = HeightOccurencesDF.orderBy(col(\"Total\").asc()).first()\n",
    "mostFreqHeight      = HeightOccurencesDF.orderBy(col(\"Total\").desc()).first()\n",
    "leastFreqWeight    = WeightOccurencesDF.orderBy(col(\"Total\").asc()).first()\n",
    "mostFreqWeight      = WeightOccurencesDF.orderBy(col(\"Total\").desc()).first()\n",
    "\n",
    "display(Markdown(\"\"\"\n",
    "| %s | %s | %s | %s |\n",
    "|----|----|----|----|\n",
    "| %s | %s | %s | %s |\n",
    "\"\"\" % (\"leastFreqAge\", \"mostFreqAge\", \"leastFreqHeight\", \"mostFreqHeight\", \\\n",
    "       \"%s (%d occurrences)\" % (leastFreqAge[\"Age1\"], leastFreqAge[\"Total\"]), \\\n",
    "       \"%s (%d occurrences)\" % (mostFreqAge[\"Age1\"], mostFreqAge[\"Total\"]), \\\n",
    "       \"%s (%d occurrences)\" % (leastFreqHeight[\"Height1\"], leastFreqHeight[\"Total\"]), \\\n",
    "       \"%s (%d occurrences)\" % (mostFreqHeight[\"Height1\"], mostFreqHeight[\"Total\"]))))\n",
    "\n",
    "display(Markdown(\"\"\"\n",
    "| %s | %s |\n",
    "|----|----|\n",
    "| %s | %s | \n",
    "\"\"\" % (\"leastFreqWeight\", \"mostFreqWeight\", \\\n",
    "       \"%s (%d occurrences)\" % (leastFreqWeight[\"Weight1\"], leastFreqWeight[\"Total\"]),\\\n",
    "       \"%s (%d occurrences)\" % (mostFreqWeight[\"Weight1\"], mostFreqWeight[\"Total\"]))))"
   ]
  },
  {
   "cell_type": "markdown",
   "metadata": {},
   "source": [
    "### B. Time / Games / Location columns basic profiling"
   ]
  },
  {
   "cell_type": "code",
   "execution_count": 66,
   "metadata": {},
   "outputs": [
    {
     "data": {
      "text/markdown": [
       "Summary of columns **Team**, **NOC**, **Games**, **Year**:"
      ],
      "text/plain": [
       "<IPython.core.display.Markdown object>"
      ]
     },
     "metadata": {},
     "output_type": "display_data"
    },
    {
     "name": "stdout",
     "output_type": "stream",
     "text": [
      "+-------+-----------+------+-----------+------------------+\n",
      "|summary|       Team|   NOC|      Games|              Year|\n",
      "+-------+-----------+------+-----------+------------------+\n",
      "|  count|     271116|271116|     271116|            271116|\n",
      "|   mean|       null|  null|       null|1978.3784800601957|\n",
      "| stddev|       null|  null|       null|29.877631985613142|\n",
      "|    min|30. Februar|   AFG|1896 Summer|              1896|\n",
      "|    25%|       null|  null|       null|            1960.0|\n",
      "|    50%|       null|  null|       null|            1988.0|\n",
      "|    75%|       null|  null|       null|            2002.0|\n",
      "|    max|       rn-2|   ZIM|2016 Summer|              2016|\n",
      "+-------+-----------+------+-----------+------------------+\n",
      "\n"
     ]
    },
    {
     "data": {
      "text/markdown": [
       "Summary of columns **Season**, **City**, **Sport**, **Event**:"
      ],
      "text/plain": [
       "<IPython.core.display.Markdown object>"
      ]
     },
     "metadata": {},
     "output_type": "display_data"
    },
    {
     "name": "stdout",
     "output_type": "stream",
     "text": [
      "+-------+------+-----------+-----------+--------------------+\n",
      "|summary|Season|       City|      Sport|               Event|\n",
      "+-------+------+-----------+-----------+--------------------+\n",
      "|  count|271116|     271116|     271116|              271116|\n",
      "|   mean|  null|       null|       null|                null|\n",
      "| stddev|  null|       null|       null|                null|\n",
      "|    min|Summer|Albertville|Aeronautics|Aeronautics Mixed...|\n",
      "|    25%|  null|       null|       null|                null|\n",
      "|    50%|  null|       null|       null|                null|\n",
      "|    75%|  null|       null|       null|                null|\n",
      "|    max|Winter|  Vancouver|  Wrestling|Wrestling Women's...|\n",
      "+-------+------+-----------+-----------+--------------------+\n",
      "\n"
     ]
    },
    {
     "data": {
      "text/markdown": [
       "Checking amount of distinct values in columns **Team**, **NOC**, **Games**, **Year**, **Season**, **City**, **Sport**, **Event**:"
      ],
      "text/plain": [
       "<IPython.core.display.Markdown object>"
      ]
     },
     "metadata": {},
     "output_type": "display_data"
    },
    {
     "name": "stdout",
     "output_type": "stream",
     "text": [
      "+----+---+-----+----+------+----+-----+-----+\n",
      "|Team|NOC|Games|Year|Season|City|Sport|Event|\n",
      "+----+---+-----+----+------+----+-----+-----+\n",
      "|1184|230|   51|  35|     2|  42|   66|  765|\n",
      "+----+---+-----+----+------+----+-----+-----+\n",
      "\n"
     ]
    }
   ],
   "source": [
    "#Team, NOC, Games, Year, Season, City, Sport, Event\n",
    "\n",
    "display(Markdown(\"Summary of columns **Team**, **NOC**, **Games**, **Year**:\"))\n",
    "olympicDF.select(\"Team\", \"NOC\", \"Games\", \"Year\").summary().show()\n",
    "display(Markdown(\"Summary of columns **Season**, **City**, **Sport**, **Event**:\"))\n",
    "olympicDF.select(\"Season\", \"City\", \"Sport\", \"Event\").summary().show()\n",
    "\n",
    "display(Markdown(\"Checking amount of distinct values in columns **Team**, **NOC**, **Games**, **Year**, **Season**, **City**, **Sport**, **Event**:\"))\n",
    "olympicDF.select([countDistinct(c).alias(c) for c in [\"Team\", \"NOC\", \"Games\", \"Year\", \"Season\", \"City\", \"Sport\", \"Event\"]]).show()"
   ]
  },
  {
   "cell_type": "code",
   "execution_count": 38,
   "metadata": {},
   "outputs": [
    {
     "data": {
      "text/markdown": [
       "Most and least frequent occurrences for **Team**, **NOC**, **Games**, **Year**, **City**, **Sport**, **Event** columns:"
      ],
      "text/plain": [
       "<IPython.core.display.Markdown object>"
      ]
     },
     "metadata": {},
     "output_type": "display_data"
    },
    {
     "data": {
      "text/markdown": [
       "\n",
       "| leastFreqTeam | mostFreqTeam | leastFreqNOC | mostFreqNOC |\n",
       "|----|----|----|----|\n",
       "| Mainz (1 occurrences) | United States (17847 occurrences) | NFL (1 occurrences) | USA (18853 occurrences) |\n"
      ],
      "text/plain": [
       "<IPython.core.display.Markdown object>"
      ]
     },
     "metadata": {},
     "output_type": "display_data"
    },
    {
     "data": {
      "text/markdown": [
       "\n",
       "| leastFreqGames | mostFreqGames | leastFreqYear | mostFreqYear |\n",
       "|----|----|----|----|\n",
       "| 1932 Winter (352 occurrences) | 2000 Summer (13821 occurrences) | 1896 (380 occurrences) | 1992 (16413 occurrences) |\n"
      ],
      "text/plain": [
       "<IPython.core.display.Markdown object>"
      ]
     },
     "metadata": {},
     "output_type": "display_data"
    },
    {
     "data": {
      "text/markdown": [
       "\n",
       "| leastFreqCity | mostFreqCity | leastFreqSport | mostFreqSport |\n",
       "|----|----|----|----|\n",
       "| Chamonix (460 occurrences) | London (22426 occurrences) | Aeronautics (1 occurrences) | Athletics (38624 occurrences) |\n"
      ],
      "text/plain": [
       "<IPython.core.display.Markdown object>"
      ]
     },
     "metadata": {},
     "output_type": "display_data"
    },
    {
     "data": {
      "text/markdown": [
       "\n",
       "| leastFreqEvent | mostFreqEvent |\n",
       "|----|----|\n",
       "| Aeronautics Mixed Aeronautics (1 occurrences) | Football Men's Football (5733 occurrences) | \n"
      ],
      "text/plain": [
       "<IPython.core.display.Markdown object>"
      ]
     },
     "metadata": {},
     "output_type": "display_data"
    }
   ],
   "source": [
    "display(Markdown(\"Most and least frequent occurrences for **Team**, **NOC**, **Games**, **Year**, **City**, **Sport**, **Event** columns:\"))\n",
    "TeamDF = olympicDF.groupBy(\"Team\").agg(count(lit(1)).alias(\"Total\"))\n",
    "NOCDF   = olympicDF.groupBy(\"NOC\").agg(count(lit(1)).alias(\"Total\"))\n",
    "GamesDF    = olympicDF.groupBy(\"Games\").agg(count(lit(1)).alias(\"Total\"))\n",
    "YearDF      = olympicDF.groupBy(\"Year\").agg(count(lit(1)).alias(\"Total\"))\n",
    "CityDF      = olympicDF.groupBy(\"City\").agg(count(lit(1)).alias(\"Total\"))\n",
    "SportDF      = olympicDF.groupBy(\"Sport\").agg(count(lit(1)).alias(\"Total\"))\n",
    "EventDF      = olympicDF.groupBy(\"Event\").agg(count(lit(1)).alias(\"Total\"))\n",
    "\n",
    "leastFreqTeam = TeamDF.orderBy(col(\"Total\").asc()).first()\n",
    "mostFreqTeam = TeamDF.orderBy(col(\"Total\").desc()).first()\n",
    "leastFreqNOC = NOCDF.orderBy(col(\"Total\").asc()).first()\n",
    "mostFreqNOC = NOCDF.orderBy(col(\"Total\").desc()).first()\n",
    "leastFreqGames = GamesDF.orderBy(col(\"Total\").asc()).first()\n",
    "mostFreqGames = GamesDF.orderBy(col(\"Total\").desc()).first()\n",
    "leastFreqYear = YearDF.orderBy(col(\"Total\").asc()).first()\n",
    "mostFreqYear = YearDF.orderBy(col(\"Total\").desc()).first()\n",
    "leastFreqCity = CityDF.orderBy(col(\"Total\").asc()).first()\n",
    "mostFreqCity = CityDF.orderBy(col(\"Total\").desc()).first()\n",
    "leastFreqSport = SportDF.orderBy(col(\"Total\").asc()).first()\n",
    "mostFreqSport = SportDF.orderBy(col(\"Total\").desc()).first()\n",
    "leastFreqEvent = EventDF.orderBy(col(\"Total\").asc()).first()\n",
    "mostFreqEvent = EventDF.orderBy(col(\"Total\").desc()).first()\n",
    "\n",
    "display(Markdown(\"\"\"\n",
    "| %s | %s | %s | %s |\n",
    "|----|----|----|----|\n",
    "| %s | %s | %s | %s |\n",
    "\"\"\" % (\"leastFreqTeam\", \"mostFreqTeam\", \"leastFreqNOC\", \"mostFreqNOC\", \\\n",
    "       \"%s (%d occurrences)\" % (leastFreqTeam[\"Team\"], leastFreqTeam[\"Total\"]), \\\n",
    "       \"%s (%d occurrences)\" % (mostFreqTeam[\"Team\"], mostFreqTeam[\"Total\"]), \\\n",
    "       \"%s (%d occurrences)\" % (leastFreqNOC[\"NOC\"], leastFreqNOC[\"Total\"]), \\\n",
    "       \"%s (%d occurrences)\" % (mostFreqNOC[\"NOC\"], mostFreqNOC[\"Total\"]))))\n",
    "\n",
    "display(Markdown(\"\"\"\n",
    "| %s | %s | %s | %s |\n",
    "|----|----|----|----|\n",
    "| %s | %s | %s | %s |\n",
    "\"\"\" % (\"leastFreqGames\", \"mostFreqGames\", \"leastFreqYear\", \"mostFreqYear\", \\\n",
    "       \"%s (%d occurrences)\" % (leastFreqGames[\"Games\"], leastFreqGames[\"Total\"]), \\\n",
    "       \"%s (%d occurrences)\" % (mostFreqGames[\"Games\"], mostFreqGames[\"Total\"]), \\\n",
    "       \"%s (%d occurrences)\" % (leastFreqYear[\"Year\"], leastFreqYear[\"Total\"]), \\\n",
    "       \"%s (%d occurrences)\" % (mostFreqYear[\"Year\"], mostFreqYear[\"Total\"]))))\n",
    "\n",
    "display(Markdown(\"\"\"\n",
    "| %s | %s | %s | %s |\n",
    "|----|----|----|----|\n",
    "| %s | %s | %s | %s |\n",
    "\"\"\" % (\"leastFreqCity\", \"mostFreqCity\", \"leastFreqSport\", \"mostFreqSport\", \\\n",
    "       \"%s (%d occurrences)\" % (leastFreqCity[\"City\"], leastFreqCity[\"Total\"]), \\\n",
    "       \"%s (%d occurrences)\" % (mostFreqCity[\"City\"], mostFreqCity[\"Total\"]), \\\n",
    "       \"%s (%d occurrences)\" % (leastFreqSport[\"Sport\"], leastFreqSport[\"Total\"]), \\\n",
    "       \"%s (%d occurrences)\" % (mostFreqSport[\"Sport\"], mostFreqSport[\"Total\"]))))\n",
    "\n",
    "display(Markdown(\"\"\"\n",
    "| %s | %s |\n",
    "|----|----|\n",
    "| %s | %s | \n",
    "\"\"\" % (\"leastFreqEvent\", \"mostFreqEvent\", \\\n",
    "       \"%s (%d occurrences)\" % (leastFreqEvent[\"Event\"], leastFreqEvent[\"Total\"]),\\\n",
    "       \"%s (%d occurrences)\" % (mostFreqEvent[\"Event\"], mostFreqEvent[\"Total\"]))))"
   ]
  },
  {
   "cell_type": "markdown",
   "metadata": {},
   "source": [
    "### C. Performance columns basic profiling"
   ]
  },
  {
   "cell_type": "code",
   "execution_count": 39,
   "metadata": {},
   "outputs": [
    {
     "data": {
      "text/markdown": [
       "Summary of columns **Medal**:"
      ],
      "text/plain": [
       "<IPython.core.display.Markdown object>"
      ]
     },
     "metadata": {},
     "output_type": "display_data"
    },
    {
     "name": "stdout",
     "output_type": "stream",
     "text": [
      "+-------+------+\n",
      "|summary| Medal|\n",
      "+-------+------+\n",
      "|  count|271116|\n",
      "|   mean|  null|\n",
      "| stddev|  null|\n",
      "|    min|Bronze|\n",
      "|    25%|  null|\n",
      "|    50%|  null|\n",
      "|    75%|  null|\n",
      "|    max|Silver|\n",
      "+-------+------+\n",
      "\n"
     ]
    },
    {
     "data": {
      "text/markdown": [
       "Checking amount of distinct values in columns **Medal**:"
      ],
      "text/plain": [
       "<IPython.core.display.Markdown object>"
      ]
     },
     "metadata": {},
     "output_type": "display_data"
    },
    {
     "name": "stdout",
     "output_type": "stream",
     "text": [
      "+-----+\n",
      "|Medal|\n",
      "+-----+\n",
      "|    4|\n",
      "+-----+\n",
      "\n"
     ]
    }
   ],
   "source": [
    "display(Markdown(\"Summary of columns **Medal**:\"))\n",
    "olympicDF.select(\"Medal\").summary().show()\n",
    "\n",
    "display(Markdown(\"Checking amount of distinct values in columns **Medal**:\"))\n",
    "olympicDF.select([countDistinct(c).alias(c) for c in [\"Medal\"]]).show()"
   ]
  },
  {
   "cell_type": "code",
   "execution_count": 70,
   "metadata": {},
   "outputs": [
    {
     "data": {
      "text/markdown": [
       "Most and least frequent occurrences for **Medal** column:"
      ],
      "text/plain": [
       "<IPython.core.display.Markdown object>"
      ]
     },
     "metadata": {},
     "output_type": "display_data"
    },
    {
     "data": {
      "text/markdown": [
       "\n",
       "| leastFreqMedal | mostFreqMedal |\n",
       "|----|----|\n",
       "| Silver (13116 occurrences) | NA (231333 occurrences) | \n"
      ],
      "text/plain": [
       "<IPython.core.display.Markdown object>"
      ]
     },
     "metadata": {},
     "output_type": "display_data"
    }
   ],
   "source": [
    "display(Markdown(\"Most and least frequent occurrences for **Medal** column:\"))\n",
    "MedalDF = olympicDF.groupBy(\"Medal\").agg(count(lit(1)).alias(\"Total\"))\n",
    "\n",
    "leastFreqMedal = MedalDF.orderBy(col(\"Total\").asc()).first()\n",
    "mostFreqMedal = MedalDF.orderBy(col(\"Total\").desc()).first()\n",
    "\n",
    "display(Markdown(\"\"\"\n",
    "| %s | %s |\n",
    "|----|----|\n",
    "| %s | %s | \n",
    "\"\"\" % (\"leastFreqMedal\", \"mostFreqMedal\", \\\n",
    "       \"%s (%d occurrences)\" % (leastFreqMedal[\"Medal\"], leastFreqMedal[\"Total\"]),\\\n",
    "       \"%s (%d occurrences)\" % (mostFreqMedal[\"Medal\"], mostFreqMedal[\"Total\"]))))"
   ]
  },
  {
   "cell_type": "code",
   "execution_count": 72,
   "metadata": {},
   "outputs": [
    {
     "name": "stdout",
     "output_type": "stream",
     "text": [
      "+------+------+\n",
      "| Medal| Total|\n",
      "+------+------+\n",
      "|    NA|231333|\n",
      "|  Gold| 13372|\n",
      "|Bronze| 13295|\n",
      "|Silver| 13116|\n",
      "+------+------+\n",
      "\n"
     ]
    }
   ],
   "source": [
    "MedalDF.orderBy(col(\"Total\").desc()).show()"
   ]
  },
  {
   "cell_type": "markdown",
   "metadata": {},
   "source": [
    "## 5. Answering Questions about Olympic Performance"
   ]
  },
  {
   "cell_type": "markdown",
   "metadata": {},
   "source": [
    "### A. Top 20 most successful olympic athletes in terms of medals won"
   ]
  },
  {
   "cell_type": "code",
   "execution_count": 41,
   "metadata": {},
   "outputs": [],
   "source": [
    "# Checking who won the most medals including all levels (Gold, Silver and Bronze)\n",
    "\n",
    "# 1. Let's enrich the df with additional columns to count the medals the athlete won\n",
    "totalDF = olympicDF.count()\n",
    "medalswonDF = olympicDF\\\n",
    "   .where(col(\"Medal\")!=\"NA\")\\\n",
    ".withColumn(\"Gold\", when(col(\"Medal\")== \"Gold\",(\"1\")).cast(\"Integer\"))\\\n",
    ".withColumn(\"Silver\", when(col(\"Medal\")== \"Silver\",(\"1\")).cast(\"Integer\"))\\\n",
    ".withColumn(\"Bronze\", when(col(\"Medal\")== \"Bronze\",(\"1\")).cast(\"Integer\"))\\\n",
    "\n",
    "#create df to count number of athletes\n",
    "athleteDF = olympicDF\\\n",
    ".select(col(\"ID\"),col(\"NOC\"))\\\n",
    ".withColumn(\"Athlete Count\", lit(1))"
   ]
  },
  {
   "cell_type": "code",
   "execution_count": 42,
   "metadata": {},
   "outputs": [
    {
     "data": {
      "text/markdown": [
       "**Top 20 most successful olympic athletes** with most medals won:"
      ],
      "text/plain": [
       "<IPython.core.display.Markdown object>"
      ]
     },
     "metadata": {},
     "output_type": "display_data"
    },
    {
     "name": "stdout",
     "output_type": "stream",
     "text": [
      "+--------------------+-------------+---------------+-----------------+-----------------+\n",
      "|                Name|        Sport|Gold Medals won|Silver Medals won|Bronze Medals won|\n",
      "+--------------------+-------------+---------------+-----------------+-----------------+\n",
      "|Michael Fred Phel...|     Swimming|             23|                3|                2|\n",
      "|Raymond Clarence ...|    Athletics|             10|                0|                0|\n",
      "|Larysa Semenivna ...|   Gymnastics|              9|                5|                4|\n",
      "|Paavo Johannes Nurmi|    Athletics|              9|                3|                0|\n",
      "|   Mark Andrew Spitz|     Swimming|              9|                1|                1|\n",
      "|Frederick Carlton...|    Athletics|              9|                1|                0|\n",
      "| Ole Einar Bjrndalen|     Biathlon|              8|                4|                1|\n",
      "|Birgit Fischer-Sc...|     Canoeing|              8|                4|                0|\n",
      "|          Sawao Kato|   Gymnastics|              8|                3|                1|\n",
      "|Jennifer Elisabet...|     Swimming|              8|                3|                1|\n",
      "|Matthew Nicholas ...|     Swimming|              8|                2|                1|\n",
      "|  Usain St. Leo Bolt|    Athletics|              8|                0|                0|\n",
      "|Nikolay Yefimovic...|   Gymnastics|              7|                5|                3|\n",
      "|Borys Anfiyanovyc...|   Gymnastics|              7|                4|                2|\n",
      "|Vra slavsk (-Odlo...|   Gymnastics|              7|                4|                0|\n",
      "|Viktor Ivanovych ...|   Gymnastics|              7|                3|                1|\n",
      "|Aladr Gerevich (-...|      Fencing|              7|                1|                2|\n",
      "|Donald Arthur \"Do...|     Swimming|              7|                1|                0|\n",
      "| Edoardo Mangiarotti|      Fencing|              6|                5|                2|\n",
      "|Isabelle Regina W...|Equestrianism|              6|                4|                0|\n",
      "+--------------------+-------------+---------------+-----------------+-----------------+\n",
      "\n"
     ]
    }
   ],
   "source": [
    "#let's see who is the most successful olympic athlete in terms of medals won\n",
    "display(Markdown(\"**Top 20 most successful olympic athletes** with most medals won:\"))\n",
    "medalswonDF.where(col(\"Medal\")!=\"NA\")\\\n",
    "                 .select(\"Name\", \"Sport\", \"Gold\", \"Silver\", \"Bronze\")\\\n",
    "                 .groupBy(\"Name\", \"Sport\")\\\n",
    "                 .agg(count(\"Gold\").alias(\"Gold Medals won\"),\n",
    "                      count(\"Silver\").alias(\"Silver Medals won\"),\n",
    "                      count(\"Bronze\").alias(\"Bronze Medals won\")) \\\n",
    "                 .orderBy(col(\"Gold Medals won\").desc(), col(\"Silver Medals won\").desc(),\\\n",
    "                          col(\"Bronze Medals won\").desc()).limit(20).show()"
   ]
  },
  {
   "cell_type": "markdown",
   "metadata": {},
   "source": [
    "### B. Top 20 countries with the most medals won, absolute and relative against number of athletes"
   ]
  },
  {
   "cell_type": "code",
   "execution_count": 73,
   "metadata": {},
   "outputs": [],
   "source": [
    "#add total medal column and replace null values\n",
    "totalmedalDF = medalswonDF\\\n",
    ".withColumn(\"Gold\", when (medalswonDF.Gold.isNull(),lit(0)).otherwise(medalswonDF.Gold))\\\n",
    ".withColumn(\"Silver\", when (medalswonDF.Silver.isNull(),lit(0)).otherwise(medalswonDF.Silver))\\\n",
    ".withColumn(\"Bronze\", when (medalswonDF.Bronze.isNull(),lit(0)).otherwise(medalswonDF.Bronze))\\\n",
    ".withColumn(\"Total Medal\", col(\"Gold\")+col(\"Silver\")+col(\"Bronze\"))\\\n",
    "\n",
    "#create two dfs to count total medals and participating athletes for the 15 most succerssful countries\n",
    "medalDF = totalmedalDF\\\n",
    ".select(\"NOC\", \"Total Medal\")\\\n",
    ".groupBy(\"NOC\")\\\n",
    ".agg(count(\"Total Medal\").alias(\"Total Medals won\"))\\\n",
    ".orderBy(col(\"Total Medals won\").desc()).limit(20)\n",
    "\n",
    "athDF = athleteDF\\\n",
    ".select(\"NOC\", \"Athlete Count\")\\\n",
    ".groupBy(\"NOC\")\\\n",
    ".agg(count(\"Athlete Count\").alias(\"Total Athletes\"))\\\n",
    ".orderBy(col(\"Total Athletes\").desc()).limit(20)"
   ]
  },
  {
   "cell_type": "code",
   "execution_count": 74,
   "metadata": {},
   "outputs": [
    {
     "data": {
      "text/markdown": [
       "**Top 20 countries with most medals won** as ratio in athletes participating:"
      ],
      "text/plain": [
       "<IPython.core.display.Markdown object>"
      ]
     },
     "metadata": {},
     "output_type": "display_data"
    },
    {
     "name": "stdout",
     "output_type": "stream",
     "text": [
      "+---+----------------+--------------+------------+\n",
      "|NOC|Total Medals won|Total Athletes|winningRatio|\n",
      "+---+----------------+--------------+------------+\n",
      "|URS|            2503|          5685|       44.03|\n",
      "|USA|            5637|         18853|        29.9|\n",
      "|RUS|            1165|          5143|       22.65|\n",
      "|GER|            2165|          9830|       22.02|\n",
      "|NOR|            1033|          4960|       20.83|\n",
      "|CHN|             989|          5141|       19.24|\n",
      "|SWE|            1536|          8339|       18.42|\n",
      "|NED|            1040|          5839|       17.81|\n",
      "|AUS|            1320|          7638|       17.28|\n",
      "|HUN|            1135|          6607|       17.18|\n",
      "|GBR|            2068|         12256|       16.87|\n",
      "|FIN|             900|          5467|       16.46|\n",
      "|ITA|            1637|         10715|       15.28|\n",
      "|FRA|            1777|         12758|       13.93|\n",
      "|CAN|            1352|          9733|       13.89|\n",
      "|SUI|             691|          6150|       11.24|\n",
      "|JPN|             913|          8444|       10.81|\n",
      "+---+----------------+--------------+------------+\n",
      "\n"
     ]
    }
   ],
   "source": [
    "#combine dataframes\n",
    "combinedDF = \\\n",
    "medalDF\\\n",
    ".join(athDF, \"NOC\")\\\n",
    ".withColumn(\"winningRatio\", round(col(\"Total Medals Won\")/col(\"Total Athletes\")*100,2))\\\n",
    ".orderBy(col(\"winningRatio\").desc())\n",
    "combinedDF.cache() #optimize to speed up processing\n",
    "\n",
    "display(Markdown(\"**Top 20 countries with most medals won** as ratio in athletes participating:\"))\n",
    "combinedDF\\\n",
    ".select(\"NOC\", \"Total Medals won\", \"Total Athletes\", \"winningRatio\").show()"
   ]
  },
  {
   "cell_type": "markdown",
   "metadata": {},
   "source": [
    "### C. Exploring physical attributes of winning athletes, how do they compare against other athletes in their sports?\n"
   ]
  },
  {
   "cell_type": "code",
   "execution_count": 45,
   "metadata": {},
   "outputs": [
    {
     "name": "stdout",
     "output_type": "stream",
     "text": [
      "+--------------------+----------+----------------+\n",
      "|                Name|     Sport|Total Medals won|\n",
      "+--------------------+----------+----------------+\n",
      "|Michael Fred Phel...|  Swimming|              28|\n",
      "|Larysa Semenivna ...|Gymnastics|              18|\n",
      "|Nikolay Yefimovic...|Gymnastics|              15|\n",
      "| Edoardo Mangiarotti|   Fencing|              13|\n",
      "| Ole Einar Bjrndalen|  Biathlon|              13|\n",
      "|Borys Anfiyanovyc...|Gymnastics|              13|\n",
      "|         Takashi Ono|Gymnastics|              13|\n",
      "|  Ryan Steven Lochte|  Swimming|              12|\n",
      "|Paavo Johannes Nurmi| Athletics|              12|\n",
      "|Natalie Anne Coug...|  Swimming|              12|\n",
      "|Aleksey Yuryevich...|Gymnastics|              12|\n",
      "|Birgit Fischer-Sc...|  Canoeing|              12|\n",
      "|          Sawao Kato|Gymnastics|              12|\n",
      "|Dara Grace Torres...|  Swimming|              12|\n",
      "|Jennifer Elisabet...|  Swimming|              12|\n",
      "|Viktor Ivanovych ...|Gymnastics|              11|\n",
      "|Carl Townsend Osburn|  Shooting|              11|\n",
      "|Matthew Nicholas ...|  Swimming|              11|\n",
      "|   Mark Andrew Spitz|  Swimming|              11|\n",
      "|Vra slavsk (-Odlo...|Gymnastics|              11|\n",
      "+--------------------+----------+----------------+\n",
      "\n"
     ]
    }
   ],
   "source": [
    "#let's see which athlets (from which sports) won the most medals\n",
    "totalmedalDF\\\n",
    ".select(\"Name\", \"Sport\", \"Total Medal\")\\\n",
    ".groupBy(\"Name\", \"Sport\")\\\n",
    ".agg(count(\"Total Medal\").alias(\"Total Medals won\"))\\\n",
    ".orderBy(col(\"Total Medals won\").desc()).limit(20).show()"
   ]
  },
  {
   "cell_type": "code",
   "execution_count": 46,
   "metadata": {},
   "outputs": [
    {
     "data": {
      "text/markdown": [
       "Summary of physical attributes in **Swimming**:"
      ],
      "text/plain": [
       "<IPython.core.display.Markdown object>"
      ]
     },
     "metadata": {},
     "output_type": "display_data"
    },
    {
     "name": "stdout",
     "output_type": "stream",
     "text": [
      "+-------+------------------+------------------+------------------+\n",
      "|summary|               Age|            Height|            Weight|\n",
      "+-------+------------------+------------------+------------------+\n",
      "|  count|             23195|             23195|             23195|\n",
      "|   mean|20.666954084932097|177.94119422289288| 70.47928432851907|\n",
      "| stddev|3.7539563809696297|  9.09340403454148|10.196374847007569|\n",
      "|    min|                11|               131|                39|\n",
      "|    25%|                18|               173|                64|\n",
      "|    50%|                20|               175|                70|\n",
      "|    75%|                23|               184|                76|\n",
      "|    max|                46|               209|               114|\n",
      "+-------+------------------+------------------+------------------+\n",
      "\n"
     ]
    },
    {
     "data": {
      "text/markdown": [
       "Summary of physical attributes of **Michael Phelps**:"
      ],
      "text/plain": [
       "<IPython.core.display.Markdown object>"
      ]
     },
     "metadata": {},
     "output_type": "display_data"
    },
    {
     "name": "stdout",
     "output_type": "stream",
     "text": [
      "+-------+-----------------+------+------+\n",
      "|summary|              Age|Height|Weight|\n",
      "+-------+-----------------+------+------+\n",
      "|  count|               30|    30|    30|\n",
      "|   mean|             24.2| 193.0|  91.0|\n",
      "| stddev|4.715345454854894|   0.0|   0.0|\n",
      "|    min|               15|   193|    91|\n",
      "|    25%|               19|   193|    91|\n",
      "|    50%|               23|   193|    91|\n",
      "|    75%|               27|   193|    91|\n",
      "|    max|               31|   193|    91|\n",
      "+-------+-----------------+------+------+\n",
      "\n"
     ]
    },
    {
     "data": {
      "text/markdown": [
       "In terms of Height and Weight he is definitly **heavier** and **taller** than the average swimming athlete!"
      ],
      "text/plain": [
       "<IPython.core.display.Markdown object>"
      ]
     },
     "metadata": {},
     "output_type": "display_data"
    }
   ],
   "source": [
    "#let's have a look at the predominant physical attributes in Gwimming, Gymnastics and Fencing\n",
    "#and how the top three athletes in these sports compare to those numbers\n",
    "\n",
    "display(Markdown(\"Summary of physical attributes in **Swimming**:\"))\n",
    "olympicDF\\\n",
    ".where(col(\"Sport\") == \"Swimming\")\\\n",
    ".select(col(\"Age1\").alias(\"Age\"),col(\"Height1\").alias(\"Height\"),col(\"Weight1\").alias(\"Weight\"))\\\n",
    ".summary().show()\n",
    "\n",
    "display(Markdown(\"Summary of physical attributes of **Michael Phelps**:\"))\n",
    "olympicDF\\\n",
    ".where(col(\"Name\") == \"Michael Fred Phelps, II\")\\\n",
    ".select(col(\"Age1\").alias(\"Age\"),col(\"Height1\").alias(\"Height\"),col(\"Weight1\").alias(\"Weight\"))\\\n",
    ".summary().show()\n",
    "\n",
    "display(Markdown(\"In terms of Height and Weight he is definitly **heavier** and **taller** than\\\n",
    " the average swimming athlete!\"))"
   ]
  },
  {
   "cell_type": "code",
   "execution_count": 47,
   "metadata": {},
   "outputs": [
    {
     "data": {
      "text/markdown": [
       "Summary of physical attributes in **Gymnastics**:"
      ],
      "text/plain": [
       "<IPython.core.display.Markdown object>"
      ]
     },
     "metadata": {},
     "output_type": "display_data"
    },
    {
     "name": "stdout",
     "output_type": "stream",
     "text": [
      "+-------+------------------+-----------------+------------------+\n",
      "|summary|               Age|           Height|            Weight|\n",
      "+-------+------------------+-----------------+------------------+\n",
      "|  count|             26707|            26707|             26707|\n",
      "|   mean|22.833114913693038|166.5700752611675| 61.04055116636088|\n",
      "| stddev| 4.818052473787331|8.868721451303445|10.158290166095187|\n",
      "|    min|                10|              127|                25|\n",
      "|    25%|                19|              161|                54|\n",
      "|    50%|                23|              168|                64|\n",
      "|    75%|                25|              175|                70|\n",
      "|    max|                49|              188|               102|\n",
      "+-------+------------------+-----------------+------------------+\n",
      "\n"
     ]
    },
    {
     "data": {
      "text/markdown": [
       "Summary of physical attributes of **Larysa Semenivna Latynina**:"
      ],
      "text/plain": [
       "<IPython.core.display.Markdown object>"
      ]
     },
     "metadata": {},
     "output_type": "display_data"
    },
    {
     "name": "stdout",
     "output_type": "stream",
     "text": [
      "+-------+------------------+------+------+\n",
      "|summary|               Age|Height|Weight|\n",
      "+-------+------------------+------+------+\n",
      "|  count|                19|    19|    19|\n",
      "|   mean|24.789473684210527| 161.0|  52.0|\n",
      "| stddev|3.3924580955148986|   0.0|   0.0|\n",
      "|    min|                21|   161|    52|\n",
      "|    25%|                21|   161|    52|\n",
      "|    50%|                25|   161|    52|\n",
      "|    75%|                29|   161|    52|\n",
      "|    max|                29|   161|    52|\n",
      "+-------+------------------+------+------+\n",
      "\n"
     ]
    },
    {
     "data": {
      "text/markdown": [
       "Her weight is almost **10kg lower** than the average!"
      ],
      "text/plain": [
       "<IPython.core.display.Markdown object>"
      ]
     },
     "metadata": {},
     "output_type": "display_data"
    }
   ],
   "source": [
    "display(Markdown(\"Summary of physical attributes in **Gymnastics**:\"))\n",
    "olympicDF\\\n",
    ".where(col(\"Sport\") == \"Gymnastics\")\\\n",
    ".select(col(\"Age1\").alias(\"Age\"),col(\"Height1\").alias(\"Height\"),col(\"Weight1\").alias(\"Weight\"))\\\n",
    ".summary().show()\n",
    "\n",
    "display(Markdown(\"Summary of physical attributes of **Larysa Semenivna Latynina**:\"))\n",
    "olympicDF\\\n",
    ".where(col(\"Name\") == \"Larysa Semenivna Latynina (Diriy-)\")\\\n",
    ".select(col(\"Age1\").alias(\"Age\"),col(\"Height1\").alias(\"Height\"),col(\"Weight1\").alias(\"Weight\"))\\\n",
    ".summary().show()\n",
    "\n",
    "display(Markdown(\"Her weight is almost **10kg lower** than the average!\"))"
   ]
  },
  {
   "cell_type": "code",
   "execution_count": 48,
   "metadata": {},
   "outputs": [
    {
     "data": {
      "text/markdown": [
       "Summary of physical attributes in **Fencing**:"
      ],
      "text/plain": [
       "<IPython.core.display.Markdown object>"
      ]
     },
     "metadata": {},
     "output_type": "display_data"
    },
    {
     "name": "stdout",
     "output_type": "stream",
     "text": [
      "+-------+------------------+------------------+-----------------+\n",
      "|summary|               Age|            Height|           Weight|\n",
      "+-------+------------------+------------------+-----------------+\n",
      "|  count|             10735|             10735|            10735|\n",
      "|   mean|28.303120633442013|176.40353982300886|70.84685607824872|\n",
      "| stddev|6.3770541757741235| 6.930514783721811| 7.82025237770739|\n",
      "|    min|                14|               152|               44|\n",
      "|    25%|                24|               175|               70|\n",
      "|    50%|                27|               175|               70|\n",
      "|    75%|                32|               180|               75|\n",
      "|    max|                63|               208|              108|\n",
      "+-------+------------------+------------------+-----------------+\n",
      "\n"
     ]
    },
    {
     "data": {
      "text/markdown": [
       "Summary of physical attributes of **Edoardo Mangiarotti**:"
      ],
      "text/plain": [
       "<IPython.core.display.Markdown object>"
      ]
     },
     "metadata": {},
     "output_type": "display_data"
    },
    {
     "name": "stdout",
     "output_type": "stream",
     "text": [
      "+-------+------------------+------+------+\n",
      "|summary|               Age|Height|Weight|\n",
      "+-------+------------------+------+------+\n",
      "|  count|                14|    14|    14|\n",
      "|   mean|33.285714285714285| 175.0|  70.0|\n",
      "| stddev| 6.169759644097496|   0.0|   0.0|\n",
      "|    min|                17|   175|    70|\n",
      "|    25%|                29|   175|    70|\n",
      "|    50%|                33|   175|    70|\n",
      "|    75%|                37|   175|    70|\n",
      "|    max|                41|   175|    70|\n",
      "+-------+------------------+------+------+\n",
      "\n"
     ]
    },
    {
     "data": {
      "text/markdown": [
       "He seems to be almost perfectly average when it comes to height and weight, his outstandig olympic track record must be due to hist talent!"
      ],
      "text/plain": [
       "<IPython.core.display.Markdown object>"
      ]
     },
     "metadata": {},
     "output_type": "display_data"
    }
   ],
   "source": [
    "display(Markdown(\"Summary of physical attributes in **Fencing**:\"))\n",
    "olympicDF\\\n",
    ".where(col(\"Sport\") == \"Fencing\")\\\n",
    ".select(col(\"Age1\").alias(\"Age\"),col(\"Height1\").alias(\"Height\"),col(\"Weight1\").alias(\"Weight\"))\\\n",
    ".summary().show()\n",
    "\n",
    "display(Markdown(\"Summary of physical attributes of **Edoardo Mangiarotti**:\"))\n",
    "olympicDF\\\n",
    ".where(col(\"Name\") == \"Edoardo Mangiarotti\")\\\n",
    ".select(col(\"Age1\").alias(\"Age\"),col(\"Height1\").alias(\"Height\"),col(\"Weight1\").alias(\"Weight\"))\\\n",
    ".summary().show()\n",
    "\n",
    "display(Markdown(\"He seems to be almost perfectly average when it comes to height and weight, his outstandig\\\n",
    " olympic track record must be due to hist talent!\"))"
   ]
  }
 ],
 "metadata": {
  "kernelspec": {
   "display_name": "Python 3",
   "language": "python",
   "name": "python3"
  },
  "language_info": {
   "codemirror_mode": {
    "name": "ipython",
    "version": 3
   },
   "file_extension": ".py",
   "mimetype": "text/x-python",
   "name": "python",
   "nbconvert_exporter": "python",
   "pygments_lexer": "ipython3",
   "version": "3.7.6"
  }
 },
 "nbformat": 4,
 "nbformat_minor": 4
}
