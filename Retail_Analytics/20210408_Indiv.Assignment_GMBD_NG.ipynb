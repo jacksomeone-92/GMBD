{
 "cells": [
  {
   "cell_type": "markdown",
   "metadata": {},
   "source": [
    "# Individual Assignment Nicolas Greull - Retail Analytics\n"
   ]
  },
  {
   "cell_type": "code",
   "execution_count": 8,
   "metadata": {},
   "outputs": [],
   "source": [
    "import pandas as pd\n",
    "import numpy as np\n",
    "import random\n",
    "from tqdm import tqdm\n",
    "from gensim.models import Word2Vec "
   ]
  },
  {
   "cell_type": "code",
   "execution_count": 102,
   "metadata": {},
   "outputs": [],
   "source": [
    "#load data for assignment\n",
    "products = pd.read_csv(\"products.csv\")\n",
    "departments = pd.read_csv(\"departments.csv\")\n",
    "aisles = pd.read_csv(\"aisles.csv\")\n",
    "order_products_prior = pd.read_csv(\"order_products__prior.csv\")\n",
    "orders = pd.read_csv(\"orders.csv\")"
   ]
  },
  {
   "cell_type": "markdown",
   "metadata": {},
   "source": [
    "# EDA"
   ]
  },
  {
   "cell_type": "code",
   "execution_count": 103,
   "metadata": {},
   "outputs": [],
   "source": [
    "# Hide deprecation warnings\n",
    "import warnings\n",
    "warnings.filterwarnings('ignore')\n",
    "\n",
    "# Common imports\n",
    "import seaborn as sns\n",
    "import squarify\n",
    "import missingno as msno\n",
    "from statsmodels.graphics.mosaicplot import mosaic\n",
    "\n",
    "# To plot pretty figures\n",
    "%matplotlib inline\n",
    "import matplotlib\n",
    "import matplotlib.pyplot as plt\n",
    "from matplotlib.gridspec import GridSpec\n",
    "plt.rcParams['axes.labelsize'] = 14\n",
    "plt.rcParams['xtick.labelsize'] = 12\n",
    "plt.rcParams['ytick.labelsize'] = 12"
   ]
  },
  {
   "cell_type": "code",
   "execution_count": 104,
   "metadata": {},
   "outputs": [
    {
     "data": {
      "text/html": [
       "<div>\n",
       "<style scoped>\n",
       "    .dataframe tbody tr th:only-of-type {\n",
       "        vertical-align: middle;\n",
       "    }\n",
       "\n",
       "    .dataframe tbody tr th {\n",
       "        vertical-align: top;\n",
       "    }\n",
       "\n",
       "    .dataframe thead th {\n",
       "        text-align: right;\n",
       "    }\n",
       "</style>\n",
       "<table border=\"1\" class=\"dataframe\">\n",
       "  <thead>\n",
       "    <tr style=\"text-align: right;\">\n",
       "      <th></th>\n",
       "      <th>order_id</th>\n",
       "      <th>product_id</th>\n",
       "      <th>add_to_cart_order</th>\n",
       "      <th>reordered</th>\n",
       "      <th>product_name</th>\n",
       "      <th>aisle_id</th>\n",
       "      <th>department_id</th>\n",
       "      <th>aisle</th>\n",
       "      <th>department</th>\n",
       "    </tr>\n",
       "  </thead>\n",
       "  <tbody>\n",
       "    <tr>\n",
       "      <th>0</th>\n",
       "      <td>2</td>\n",
       "      <td>33120</td>\n",
       "      <td>1</td>\n",
       "      <td>1</td>\n",
       "      <td>Organic Egg Whites</td>\n",
       "      <td>86</td>\n",
       "      <td>16</td>\n",
       "      <td>eggs</td>\n",
       "      <td>dairy eggs</td>\n",
       "    </tr>\n",
       "    <tr>\n",
       "      <th>1</th>\n",
       "      <td>2</td>\n",
       "      <td>28985</td>\n",
       "      <td>2</td>\n",
       "      <td>1</td>\n",
       "      <td>Michigan Organic Kale</td>\n",
       "      <td>83</td>\n",
       "      <td>4</td>\n",
       "      <td>fresh vegetables</td>\n",
       "      <td>produce</td>\n",
       "    </tr>\n",
       "    <tr>\n",
       "      <th>2</th>\n",
       "      <td>2</td>\n",
       "      <td>9327</td>\n",
       "      <td>3</td>\n",
       "      <td>0</td>\n",
       "      <td>Garlic Powder</td>\n",
       "      <td>104</td>\n",
       "      <td>13</td>\n",
       "      <td>spices seasonings</td>\n",
       "      <td>pantry</td>\n",
       "    </tr>\n",
       "    <tr>\n",
       "      <th>3</th>\n",
       "      <td>2</td>\n",
       "      <td>45918</td>\n",
       "      <td>4</td>\n",
       "      <td>1</td>\n",
       "      <td>Coconut Butter</td>\n",
       "      <td>19</td>\n",
       "      <td>13</td>\n",
       "      <td>oils vinegars</td>\n",
       "      <td>pantry</td>\n",
       "    </tr>\n",
       "    <tr>\n",
       "      <th>4</th>\n",
       "      <td>2</td>\n",
       "      <td>30035</td>\n",
       "      <td>5</td>\n",
       "      <td>0</td>\n",
       "      <td>Natural Sweetener</td>\n",
       "      <td>17</td>\n",
       "      <td>13</td>\n",
       "      <td>baking ingredients</td>\n",
       "      <td>pantry</td>\n",
       "    </tr>\n",
       "  </tbody>\n",
       "</table>\n",
       "</div>"
      ],
      "text/plain": [
       "   order_id  product_id  add_to_cart_order  reordered           product_name  \\\n",
       "0         2       33120                  1          1     Organic Egg Whites   \n",
       "1         2       28985                  2          1  Michigan Organic Kale   \n",
       "2         2        9327                  3          0          Garlic Powder   \n",
       "3         2       45918                  4          1         Coconut Butter   \n",
       "4         2       30035                  5          0      Natural Sweetener   \n",
       "\n",
       "   aisle_id  department_id               aisle  department  \n",
       "0        86             16                eggs  dairy eggs  \n",
       "1        83              4    fresh vegetables     produce  \n",
       "2       104             13   spices seasonings      pantry  \n",
       "3        19             13       oils vinegars      pantry  \n",
       "4        17             13  baking ingredients      pantry  "
      ]
     },
     "execution_count": 104,
     "metadata": {},
     "output_type": "execute_result"
    }
   ],
   "source": [
    "#merge the prior orders information dataset with product, sle and department information to get the whole picture on what kind of products people buy\n",
    "df_past_orders_info = pd.merge(pd.merge(pd.merge(order_products_prior, products, on=\"product_id\",\\\n",
    "        how=\"left\"), aisles, on=\"aisle_id\", how=\"left\"), departments, on=\"department_id\", how=\"left\")\n",
    "df_past_orders_info.head()"
   ]
  },
  {
   "cell_type": "code",
   "execution_count": 106,
   "metadata": {},
   "outputs": [
    {
     "data": {
      "image/png": "[encoded data removed]",
      "text/plain": [
       "<Figure size 864x720 with 1 Axes>"
      ]
     },
     "metadata": {
      "needs_background": "light"
     },
     "output_type": "display_data"
    }
   ],
   "source": [
    "fig, ax = plt.subplots(figsize=(12,10))\n",
    "sns.countplot(x=\"order_dow\", data=orders, alpha=0.8, color='darkblue')\n",
    "plt.ylabel(\"Orders\")\n",
    "plt.xlabel(\"Day of week\")\n",
    "plt.title(\"Frequency distribution of orders per day of the week\")\n",
    "labels = ['Saturday','Sunday','Monday','Tuesday','Wednesday','Thursday','Friday']\n",
    "ax.set_xticklabels(labels)\n",
    "plt.show()"
   ]
  },
  {
   "cell_type": "markdown",
   "metadata": {},
   "source": [
    "Most purchases are made on Weekends with a low on Wednesday."
   ]
  },
  {
   "cell_type": "code",
   "execution_count": 108,
   "metadata": {},
   "outputs": [
    {
     "data": {
      "image/png": "[encoded data removed]",
      "text/plain": [
       "<Figure size 864x720 with 1 Axes>"
      ]
     },
     "metadata": {
      "needs_background": "light"
     },
     "output_type": "display_data"
    }
   ],
   "source": [
    "plt.figure(figsize=(12,10))\n",
    "sns.countplot(x=\"order_hour_of_day\", data=orders, alpha=0.8, color='darkblue')\n",
    "plt.ylabel(\"Orders\")\n",
    "plt.xlabel(\"Hour of day\")\n",
    "plt.title(\"Frequency distribution of orders per hour of day\")\n",
    "plt.show()"
   ]
  },
  {
   "cell_type": "markdown",
   "metadata": {},
   "source": [
    "Most orders are placed between 9am and 16pm."
   ]
  },
  {
   "cell_type": "code",
   "execution_count": 109,
   "metadata": {},
   "outputs": [
    {
     "data": {
      "text/plain": [
       "Banana                    472565\n",
       "Bag of Organic Bananas    379450\n",
       "Organic Strawberries      264683\n",
       "Organic Baby Spinach      241921\n",
       "Organic Hass Avocado      213584\n",
       "Organic Avocado           176815\n",
       "Large Lemon               152657\n",
       "Strawberries              142951\n",
       "Limes                     140627\n",
       "Organic Whole Milk        137905\n",
       "Name: product_name, dtype: int64"
      ]
     },
     "execution_count": 109,
     "metadata": {},
     "output_type": "execute_result"
    }
   ],
   "source": [
    "df_past_orders_info['product_name'].value_counts()[0:10]"
   ]
  },
  {
   "cell_type": "code",
   "execution_count": 110,
   "metadata": {},
   "outputs": [
    {
     "data": {
      "image/png": "[encoded data removed]",
      "text/plain": [
       "<Figure size 864x720 with 1 Axes>"
      ]
     },
     "metadata": {
      "needs_background": "light"
     },
     "output_type": "display_data"
    }
   ],
   "source": [
    "top_10_products = df_past_orders_info[\"product_name\"].value_counts().head(10)\n",
    "\n",
    "plt.figure(figsize=(12,10))\n",
    "sns.barplot(top_10_products.index, top_10_products.values, alpha=0.8, color='darkblue')\n",
    "plt.ylabel(\"Orders\")\n",
    "plt.xticks(rotation=\"vertical\")\n",
    "plt.title('Top 10 Products')\n",
    "plt.show()"
   ]
  },
  {
   "cell_type": "markdown",
   "metadata": {},
   "source": [
    "The 10 most ordered products are mostly organic, fruits or vegetables."
   ]
  },
  {
   "cell_type": "code",
   "execution_count": 111,
   "metadata": {},
   "outputs": [
    {
     "data": {
      "image/png": "[encoded data removed]",
      "text/plain": [
       "<Figure size 864x720 with 1 Axes>"
      ]
     },
     "metadata": {
      "needs_background": "light"
     },
     "output_type": "display_data"
    }
   ],
   "source": [
    "top_10_aisles = df_past_orders_info[\"aisle\"].value_counts().head(10)\n",
    "\n",
    "plt.figure(figsize=(12,10))\n",
    "sns.barplot(top_10_aisles.index, top_10_aisles.values, alpha=0.8, color='darkblue')\n",
    "plt.ylabel(\"Orders\")\n",
    "plt.xticks(rotation=\"vertical\")\n",
    "plt.title('Top 10 Aisles')\n",
    "plt.show()"
   ]
  },
  {
   "cell_type": "markdown",
   "metadata": {},
   "source": [
    "Not surprizing, the top aisles are the ones with fresh fruit and vegetable."
   ]
  },
  {
   "cell_type": "code",
   "execution_count": 112,
   "metadata": {},
   "outputs": [
    {
     "data": {
      "image/png": "[encoded data removed]",
      "text/plain": [
       "<Figure size 864x720 with 1 Axes>"
      ]
     },
     "metadata": {
      "needs_background": "light"
     },
     "output_type": "display_data"
    }
   ],
   "source": [
    "top_10_departments = df_past_orders_info[\"department\"].value_counts().head(10)\n",
    "\n",
    "plt.figure(figsize=(12,10))\n",
    "sns.barplot(top_10_departments.index, top_10_departments.values, alpha=0.8, color='darkblue')\n",
    "plt.ylabel(\"Orders\")\n",
    "plt.xticks(rotation=\"vertical\")\n",
    "plt.title('Top 10 Departments')\n",
    "plt.show()"
   ]
  },
  {
   "cell_type": "code",
   "execution_count": 113,
   "metadata": {},
   "outputs": [
    {
     "data": {
      "image/png": "[encoded data removed]",
      "text/plain": [
       "<Figure size 720x720 with 1 Axes>"
      ]
     },
     "metadata": {},
     "output_type": "display_data"
    }
   ],
   "source": [
    "plt.figure(figsize=(10,10))\n",
    "dept_distn = df_past_orders_info['department'].value_counts()\n",
    "labels = (np.array(dept_distn.index))\n",
    "sizes = (np.array((dept_distn / dept_distn.sum())*100))\n",
    "plt.pie(sizes, labels=labels, autopct='%1.1f%%', startangle=200)\n",
    "plt.title(\"Departments distribution\")\n",
    "plt.show()"
   ]
  },
  {
   "cell_type": "markdown",
   "metadata": {},
   "source": [
    "From the above graph we can see that the top 3 departments (Produce, Dairy Eggs, Snacks) make up more than 50% of the products ordered."
   ]
  },
  {
   "cell_type": "markdown",
   "metadata": {},
   "source": [
    "# 1st Approach "
   ]
  },
  {
   "cell_type": "code",
   "execution_count": 17,
   "metadata": {},
   "outputs": [
    {
     "data": {
      "text/html": [
       "<div>\n",
       "<style scoped>\n",
       "    .dataframe tbody tr th:only-of-type {\n",
       "        vertical-align: middle;\n",
       "    }\n",
       "\n",
       "    .dataframe tbody tr th {\n",
       "        vertical-align: top;\n",
       "    }\n",
       "\n",
       "    .dataframe thead th {\n",
       "        text-align: right;\n",
       "    }\n",
       "</style>\n",
       "<table border=\"1\" class=\"dataframe\">\n",
       "  <thead>\n",
       "    <tr style=\"text-align: right;\">\n",
       "      <th></th>\n",
       "      <th>order_id</th>\n",
       "      <th>user_id</th>\n",
       "      <th>eval_set</th>\n",
       "      <th>order_number</th>\n",
       "      <th>order_dow</th>\n",
       "      <th>order_hour_of_day</th>\n",
       "      <th>days_since_prior_order</th>\n",
       "      <th>product_id</th>\n",
       "    </tr>\n",
       "  </thead>\n",
       "  <tbody>\n",
       "    <tr>\n",
       "      <th>0</th>\n",
       "      <td>2539329</td>\n",
       "      <td>1</td>\n",
       "      <td>prior</td>\n",
       "      <td>1</td>\n",
       "      <td>2</td>\n",
       "      <td>8</td>\n",
       "      <td>NaN</td>\n",
       "      <td>196</td>\n",
       "    </tr>\n",
       "    <tr>\n",
       "      <th>1</th>\n",
       "      <td>2539329</td>\n",
       "      <td>1</td>\n",
       "      <td>prior</td>\n",
       "      <td>1</td>\n",
       "      <td>2</td>\n",
       "      <td>8</td>\n",
       "      <td>NaN</td>\n",
       "      <td>14084</td>\n",
       "    </tr>\n",
       "    <tr>\n",
       "      <th>2</th>\n",
       "      <td>2539329</td>\n",
       "      <td>1</td>\n",
       "      <td>prior</td>\n",
       "      <td>1</td>\n",
       "      <td>2</td>\n",
       "      <td>8</td>\n",
       "      <td>NaN</td>\n",
       "      <td>12427</td>\n",
       "    </tr>\n",
       "    <tr>\n",
       "      <th>3</th>\n",
       "      <td>2539329</td>\n",
       "      <td>1</td>\n",
       "      <td>prior</td>\n",
       "      <td>1</td>\n",
       "      <td>2</td>\n",
       "      <td>8</td>\n",
       "      <td>NaN</td>\n",
       "      <td>26088</td>\n",
       "    </tr>\n",
       "    <tr>\n",
       "      <th>4</th>\n",
       "      <td>2539329</td>\n",
       "      <td>1</td>\n",
       "      <td>prior</td>\n",
       "      <td>1</td>\n",
       "      <td>2</td>\n",
       "      <td>8</td>\n",
       "      <td>NaN</td>\n",
       "      <td>26405</td>\n",
       "    </tr>\n",
       "  </tbody>\n",
       "</table>\n",
       "</div>"
      ],
      "text/plain": [
       "   order_id  user_id eval_set  order_number  order_dow  order_hour_of_day  \\\n",
       "0   2539329        1    prior             1          2                  8   \n",
       "1   2539329        1    prior             1          2                  8   \n",
       "2   2539329        1    prior             1          2                  8   \n",
       "3   2539329        1    prior             1          2                  8   \n",
       "4   2539329        1    prior             1          2                  8   \n",
       "\n",
       "   days_since_prior_order  product_id  \n",
       "0                     NaN         196  \n",
       "1                     NaN       14084  \n",
       "2                     NaN       12427  \n",
       "3                     NaN       26088  \n",
       "4                     NaN       26405  "
      ]
     },
     "execution_count": 17,
     "metadata": {},
     "output_type": "execute_result"
    }
   ],
   "source": [
    "#merge order, user and product ID into one df\n",
    "df_new = pd.merge(orders, order_products_prior[['order_id', 'product_id']], on=\"order_id\", how='inner')\n",
    "df_new.head()"
   ]
  },
  {
   "cell_type": "code",
   "execution_count": 18,
   "metadata": {},
   "outputs": [
    {
     "data": {
      "text/html": [
       "<div>\n",
       "<style scoped>\n",
       "    .dataframe tbody tr th:only-of-type {\n",
       "        vertical-align: middle;\n",
       "    }\n",
       "\n",
       "    .dataframe tbody tr th {\n",
       "        vertical-align: top;\n",
       "    }\n",
       "\n",
       "    .dataframe thead th {\n",
       "        text-align: right;\n",
       "    }\n",
       "</style>\n",
       "<table border=\"1\" class=\"dataframe\">\n",
       "  <thead>\n",
       "    <tr style=\"text-align: right;\">\n",
       "      <th></th>\n",
       "      <th>order_id</th>\n",
       "      <th>user_id</th>\n",
       "      <th>eval_set</th>\n",
       "      <th>order_number</th>\n",
       "      <th>order_dow</th>\n",
       "      <th>order_hour_of_day</th>\n",
       "      <th>days_since_prior_order</th>\n",
       "      <th>product_id</th>\n",
       "      <th>product_name</th>\n",
       "    </tr>\n",
       "  </thead>\n",
       "  <tbody>\n",
       "    <tr>\n",
       "      <th>0</th>\n",
       "      <td>2539329</td>\n",
       "      <td>1</td>\n",
       "      <td>prior</td>\n",
       "      <td>1</td>\n",
       "      <td>2</td>\n",
       "      <td>8</td>\n",
       "      <td>NaN</td>\n",
       "      <td>196</td>\n",
       "      <td>Soda</td>\n",
       "    </tr>\n",
       "    <tr>\n",
       "      <th>1</th>\n",
       "      <td>2398795</td>\n",
       "      <td>1</td>\n",
       "      <td>prior</td>\n",
       "      <td>2</td>\n",
       "      <td>3</td>\n",
       "      <td>7</td>\n",
       "      <td>15.0</td>\n",
       "      <td>196</td>\n",
       "      <td>Soda</td>\n",
       "    </tr>\n",
       "    <tr>\n",
       "      <th>2</th>\n",
       "      <td>473747</td>\n",
       "      <td>1</td>\n",
       "      <td>prior</td>\n",
       "      <td>3</td>\n",
       "      <td>3</td>\n",
       "      <td>12</td>\n",
       "      <td>21.0</td>\n",
       "      <td>196</td>\n",
       "      <td>Soda</td>\n",
       "    </tr>\n",
       "    <tr>\n",
       "      <th>3</th>\n",
       "      <td>2254736</td>\n",
       "      <td>1</td>\n",
       "      <td>prior</td>\n",
       "      <td>4</td>\n",
       "      <td>4</td>\n",
       "      <td>7</td>\n",
       "      <td>29.0</td>\n",
       "      <td>196</td>\n",
       "      <td>Soda</td>\n",
       "    </tr>\n",
       "    <tr>\n",
       "      <th>4</th>\n",
       "      <td>431534</td>\n",
       "      <td>1</td>\n",
       "      <td>prior</td>\n",
       "      <td>5</td>\n",
       "      <td>4</td>\n",
       "      <td>15</td>\n",
       "      <td>28.0</td>\n",
       "      <td>196</td>\n",
       "      <td>Soda</td>\n",
       "    </tr>\n",
       "  </tbody>\n",
       "</table>\n",
       "</div>"
      ],
      "text/plain": [
       "   order_id  user_id eval_set  order_number  order_dow  order_hour_of_day  \\\n",
       "0   2539329        1    prior             1          2                  8   \n",
       "1   2398795        1    prior             2          3                  7   \n",
       "2    473747        1    prior             3          3                 12   \n",
       "3   2254736        1    prior             4          4                  7   \n",
       "4    431534        1    prior             5          4                 15   \n",
       "\n",
       "   days_since_prior_order  product_id product_name  \n",
       "0                     NaN         196         Soda  \n",
       "1                    15.0         196         Soda  \n",
       "2                    21.0         196         Soda  \n",
       "3                    29.0         196         Soda  \n",
       "4                    28.0         196         Soda  "
      ]
     },
     "execution_count": 18,
     "metadata": {},
     "output_type": "execute_result"
    }
   ],
   "source": [
    "df = pd.merge(df_new, products[['product_id', 'product_name']], on=\"product_id\", how='inner')\n",
    "df.head()"
   ]
  },
  {
   "cell_type": "code",
   "execution_count": 19,
   "metadata": {},
   "outputs": [
    {
     "data": {
      "text/plain": [
       "(32434489, 9)"
      ]
     },
     "execution_count": 19,
     "metadata": {},
     "output_type": "execute_result"
    }
   ],
   "source": [
    "df.shape"
   ]
  },
  {
   "cell_type": "code",
   "execution_count": 20,
   "metadata": {},
   "outputs": [
    {
     "data": {
      "text/html": [
       "<div>\n",
       "<style scoped>\n",
       "    .dataframe tbody tr th:only-of-type {\n",
       "        vertical-align: middle;\n",
       "    }\n",
       "\n",
       "    .dataframe tbody tr th {\n",
       "        vertical-align: top;\n",
       "    }\n",
       "\n",
       "    .dataframe thead th {\n",
       "        text-align: right;\n",
       "    }\n",
       "</style>\n",
       "<table border=\"1\" class=\"dataframe\">\n",
       "  <thead>\n",
       "    <tr style=\"text-align: right;\">\n",
       "      <th></th>\n",
       "      <th>order_id</th>\n",
       "      <th>user_id</th>\n",
       "      <th>eval_set</th>\n",
       "      <th>order_number</th>\n",
       "      <th>order_dow</th>\n",
       "      <th>order_hour_of_day</th>\n",
       "      <th>days_since_prior_order</th>\n",
       "      <th>product_id</th>\n",
       "      <th>product_name</th>\n",
       "    </tr>\n",
       "  </thead>\n",
       "  <tbody>\n",
       "    <tr>\n",
       "      <th>0</th>\n",
       "      <td>2539329</td>\n",
       "      <td>1</td>\n",
       "      <td>prior</td>\n",
       "      <td>1</td>\n",
       "      <td>2</td>\n",
       "      <td>8</td>\n",
       "      <td>NaN</td>\n",
       "      <td>196</td>\n",
       "      <td>Soda</td>\n",
       "    </tr>\n",
       "    <tr>\n",
       "      <th>1</th>\n",
       "      <td>2398795</td>\n",
       "      <td>1</td>\n",
       "      <td>prior</td>\n",
       "      <td>2</td>\n",
       "      <td>3</td>\n",
       "      <td>7</td>\n",
       "      <td>15.0</td>\n",
       "      <td>196</td>\n",
       "      <td>Soda</td>\n",
       "    </tr>\n",
       "    <tr>\n",
       "      <th>2</th>\n",
       "      <td>473747</td>\n",
       "      <td>1</td>\n",
       "      <td>prior</td>\n",
       "      <td>3</td>\n",
       "      <td>3</td>\n",
       "      <td>12</td>\n",
       "      <td>21.0</td>\n",
       "      <td>196</td>\n",
       "      <td>Soda</td>\n",
       "    </tr>\n",
       "    <tr>\n",
       "      <th>3</th>\n",
       "      <td>2254736</td>\n",
       "      <td>1</td>\n",
       "      <td>prior</td>\n",
       "      <td>4</td>\n",
       "      <td>4</td>\n",
       "      <td>7</td>\n",
       "      <td>29.0</td>\n",
       "      <td>196</td>\n",
       "      <td>Soda</td>\n",
       "    </tr>\n",
       "    <tr>\n",
       "      <th>4</th>\n",
       "      <td>431534</td>\n",
       "      <td>1</td>\n",
       "      <td>prior</td>\n",
       "      <td>5</td>\n",
       "      <td>4</td>\n",
       "      <td>15</td>\n",
       "      <td>28.0</td>\n",
       "      <td>196</td>\n",
       "      <td>Soda</td>\n",
       "    </tr>\n",
       "  </tbody>\n",
       "</table>\n",
       "</div>"
      ],
      "text/plain": [
       "   order_id  user_id eval_set  order_number  order_dow  order_hour_of_day  \\\n",
       "0   2539329        1    prior             1          2                  8   \n",
       "1   2398795        1    prior             2          3                  7   \n",
       "2    473747        1    prior             3          3                 12   \n",
       "3   2254736        1    prior             4          4                  7   \n",
       "4    431534        1    prior             5          4                 15   \n",
       "\n",
       "   days_since_prior_order  product_id product_name  \n",
       "0                     NaN         196         Soda  \n",
       "1                    15.0         196         Soda  \n",
       "2                    21.0         196         Soda  \n",
       "3                    29.0         196         Soda  \n",
       "4                    28.0         196         Soda  "
      ]
     },
     "execution_count": 20,
     "metadata": {},
     "output_type": "execute_result"
    }
   ],
   "source": [
    "df.head()"
   ]
  },
  {
   "cell_type": "code",
   "execution_count": 21,
   "metadata": {},
   "outputs": [
    {
     "data": {
      "text/html": [
       "<div>\n",
       "<style scoped>\n",
       "    .dataframe tbody tr th:only-of-type {\n",
       "        vertical-align: middle;\n",
       "    }\n",
       "\n",
       "    .dataframe tbody tr th {\n",
       "        vertical-align: top;\n",
       "    }\n",
       "\n",
       "    .dataframe thead th {\n",
       "        text-align: right;\n",
       "    }\n",
       "</style>\n",
       "<table border=\"1\" class=\"dataframe\">\n",
       "  <thead>\n",
       "    <tr style=\"text-align: right;\">\n",
       "      <th></th>\n",
       "      <th>order_id</th>\n",
       "      <th>user_id</th>\n",
       "      <th>eval_set</th>\n",
       "      <th>order_number</th>\n",
       "      <th>order_dow</th>\n",
       "      <th>order_hour_of_day</th>\n",
       "      <th>product_id</th>\n",
       "      <th>product_name</th>\n",
       "    </tr>\n",
       "  </thead>\n",
       "  <tbody>\n",
       "    <tr>\n",
       "      <th>0</th>\n",
       "      <td>2539329</td>\n",
       "      <td>1</td>\n",
       "      <td>prior</td>\n",
       "      <td>1</td>\n",
       "      <td>2</td>\n",
       "      <td>8</td>\n",
       "      <td>196</td>\n",
       "      <td>Soda</td>\n",
       "    </tr>\n",
       "    <tr>\n",
       "      <th>1</th>\n",
       "      <td>2398795</td>\n",
       "      <td>1</td>\n",
       "      <td>prior</td>\n",
       "      <td>2</td>\n",
       "      <td>3</td>\n",
       "      <td>7</td>\n",
       "      <td>196</td>\n",
       "      <td>Soda</td>\n",
       "    </tr>\n",
       "    <tr>\n",
       "      <th>2</th>\n",
       "      <td>473747</td>\n",
       "      <td>1</td>\n",
       "      <td>prior</td>\n",
       "      <td>3</td>\n",
       "      <td>3</td>\n",
       "      <td>12</td>\n",
       "      <td>196</td>\n",
       "      <td>Soda</td>\n",
       "    </tr>\n",
       "    <tr>\n",
       "      <th>3</th>\n",
       "      <td>2254736</td>\n",
       "      <td>1</td>\n",
       "      <td>prior</td>\n",
       "      <td>4</td>\n",
       "      <td>4</td>\n",
       "      <td>7</td>\n",
       "      <td>196</td>\n",
       "      <td>Soda</td>\n",
       "    </tr>\n",
       "    <tr>\n",
       "      <th>4</th>\n",
       "      <td>431534</td>\n",
       "      <td>1</td>\n",
       "      <td>prior</td>\n",
       "      <td>5</td>\n",
       "      <td>4</td>\n",
       "      <td>15</td>\n",
       "      <td>196</td>\n",
       "      <td>Soda</td>\n",
       "    </tr>\n",
       "  </tbody>\n",
       "</table>\n",
       "</div>"
      ],
      "text/plain": [
       "   order_id  user_id eval_set  order_number  order_dow  order_hour_of_day  \\\n",
       "0   2539329        1    prior             1          2                  8   \n",
       "1   2398795        1    prior             2          3                  7   \n",
       "2    473747        1    prior             3          3                 12   \n",
       "3   2254736        1    prior             4          4                  7   \n",
       "4    431534        1    prior             5          4                 15   \n",
       "\n",
       "   product_id product_name  \n",
       "0         196         Soda  \n",
       "1         196         Soda  \n",
       "2         196         Soda  \n",
       "3         196         Soda  \n",
       "4         196         Soda  "
      ]
     },
     "execution_count": 21,
     "metadata": {},
     "output_type": "execute_result"
    }
   ],
   "source": [
    "#dropping column with missing values\n",
    "df = df.drop(['days_since_prior_order'], axis = 1)\n",
    "df.head()"
   ]
  },
  {
   "cell_type": "code",
   "execution_count": 34,
   "metadata": {},
   "outputs": [
    {
     "data": {
      "text/html": [
       "<div>\n",
       "<style scoped>\n",
       "    .dataframe tbody tr th:only-of-type {\n",
       "        vertical-align: middle;\n",
       "    }\n",
       "\n",
       "    .dataframe tbody tr th {\n",
       "        vertical-align: top;\n",
       "    }\n",
       "\n",
       "    .dataframe thead th {\n",
       "        text-align: right;\n",
       "    }\n",
       "</style>\n",
       "<table border=\"1\" class=\"dataframe\">\n",
       "  <thead>\n",
       "    <tr style=\"text-align: right;\">\n",
       "      <th></th>\n",
       "      <th>order_id</th>\n",
       "      <th>user_id</th>\n",
       "      <th>eval_set</th>\n",
       "      <th>order_number</th>\n",
       "      <th>order_dow</th>\n",
       "      <th>order_hour_of_day</th>\n",
       "      <th>product_id</th>\n",
       "      <th>product_name</th>\n",
       "    </tr>\n",
       "  </thead>\n",
       "  <tbody>\n",
       "    <tr>\n",
       "      <th>0</th>\n",
       "      <td>2539329</td>\n",
       "      <td>1</td>\n",
       "      <td>prior</td>\n",
       "      <td>1</td>\n",
       "      <td>2</td>\n",
       "      <td>8</td>\n",
       "      <td>196</td>\n",
       "      <td>Soda</td>\n",
       "    </tr>\n",
       "    <tr>\n",
       "      <th>1</th>\n",
       "      <td>2398795</td>\n",
       "      <td>1</td>\n",
       "      <td>prior</td>\n",
       "      <td>2</td>\n",
       "      <td>3</td>\n",
       "      <td>7</td>\n",
       "      <td>196</td>\n",
       "      <td>Soda</td>\n",
       "    </tr>\n",
       "    <tr>\n",
       "      <th>2</th>\n",
       "      <td>473747</td>\n",
       "      <td>1</td>\n",
       "      <td>prior</td>\n",
       "      <td>3</td>\n",
       "      <td>3</td>\n",
       "      <td>12</td>\n",
       "      <td>196</td>\n",
       "      <td>Soda</td>\n",
       "    </tr>\n",
       "    <tr>\n",
       "      <th>3</th>\n",
       "      <td>2254736</td>\n",
       "      <td>1</td>\n",
       "      <td>prior</td>\n",
       "      <td>4</td>\n",
       "      <td>4</td>\n",
       "      <td>7</td>\n",
       "      <td>196</td>\n",
       "      <td>Soda</td>\n",
       "    </tr>\n",
       "    <tr>\n",
       "      <th>4</th>\n",
       "      <td>431534</td>\n",
       "      <td>1</td>\n",
       "      <td>prior</td>\n",
       "      <td>5</td>\n",
       "      <td>4</td>\n",
       "      <td>15</td>\n",
       "      <td>196</td>\n",
       "      <td>Soda</td>\n",
       "    </tr>\n",
       "  </tbody>\n",
       "</table>\n",
       "</div>"
      ],
      "text/plain": [
       "   order_id user_id eval_set  order_number  order_dow  order_hour_of_day  \\\n",
       "0   2539329       1    prior             1          2                  8   \n",
       "1   2398795       1    prior             2          3                  7   \n",
       "2    473747       1    prior             3          3                 12   \n",
       "3   2254736       1    prior             4          4                  7   \n",
       "4    431534       1    prior             5          4                 15   \n",
       "\n",
       "  product_id product_name  \n",
       "0        196         Soda  \n",
       "1        196         Soda  \n",
       "2        196         Soda  \n",
       "3        196         Soda  \n",
       "4        196         Soda  "
      ]
     },
     "execution_count": 34,
     "metadata": {},
     "output_type": "execute_result"
    }
   ],
   "source": [
    "#cast to str values\n",
    "df['product_id'] = df['product_id'].astype(str)\n",
    "df['user_id'] = df['user_id'].astype(str)\n",
    "df['product_name'] = df['product_name'].astype(str)\n",
    "df.head()"
   ]
  },
  {
   "cell_type": "code",
   "execution_count": 36,
   "metadata": {},
   "outputs": [
    {
     "data": {
      "text/plain": [
       "order_id             0\n",
       "user_id              0\n",
       "eval_set             0\n",
       "order_number         0\n",
       "order_dow            0\n",
       "order_hour_of_day    0\n",
       "product_id           0\n",
       "product_name         0\n",
       "dtype: int64"
      ]
     },
     "execution_count": 36,
     "metadata": {},
     "output_type": "execute_result"
    }
   ],
   "source": [
    "df.isnull().sum()"
   ]
  },
  {
   "cell_type": "code",
   "execution_count": 37,
   "metadata": {},
   "outputs": [],
   "source": [
    "# remove missing values\n",
    "#df.dropna(inplace=True)"
   ]
  },
  {
   "cell_type": "code",
   "execution_count": 109,
   "metadata": {},
   "outputs": [],
   "source": [
    "#take sample of 1'000'000 to reduce running time\n",
    "df_sample = df.sample(n=1000000, random_state=1)"
   ]
  },
  {
   "cell_type": "code",
   "execution_count": 110,
   "metadata": {},
   "outputs": [
    {
     "name": "stdout",
     "output_type": "stream",
     "text": [
      "<class 'pandas.core.frame.DataFrame'>\n",
      "Int64Index: 1000000 entries, 17336906 to 13125034\n",
      "Data columns (total 8 columns):\n",
      " #   Column             Non-Null Count    Dtype \n",
      "---  ------             --------------    ----- \n",
      " 0   order_id           1000000 non-null  int64 \n",
      " 1   user_id            1000000 non-null  object\n",
      " 2   eval_set           1000000 non-null  object\n",
      " 3   order_number       1000000 non-null  int64 \n",
      " 4   order_dow          1000000 non-null  int64 \n",
      " 5   order_hour_of_day  1000000 non-null  int64 \n",
      " 6   product_id         1000000 non-null  object\n",
      " 7   product_name       1000000 non-null  object\n",
      "dtypes: int64(4), object(4)\n",
      "memory usage: 68.7+ MB\n"
     ]
    }
   ],
   "source": [
    "df_sample.info()"
   ]
  },
  {
   "cell_type": "code",
   "execution_count": 111,
   "metadata": {},
   "outputs": [
    {
     "data": {
      "text/plain": [
       "169684"
      ]
     },
     "execution_count": 111,
     "metadata": {},
     "output_type": "execute_result"
    }
   ],
   "source": [
    "customers = df_sample[\"user_id\"].unique().tolist()\n",
    "len(customers)"
   ]
  },
  {
   "cell_type": "code",
   "execution_count": 112,
   "metadata": {},
   "outputs": [],
   "source": [
    "# shuffle customer ID's\n",
    "random.shuffle(customers)\n",
    "\n",
    "# extract 90% of customer ID's\n",
    "customers_train = [customers[i] for i in range(round(0.9*len(customers)))]\n",
    "\n",
    "# split data into train and validation set\n",
    "train_df = df_sample[df_sample['user_id'].isin(customers_train)]\n",
    "validation_df = df_sample[~df_sample['user_id'].isin(customers_train)]"
   ]
  },
  {
   "cell_type": "code",
   "execution_count": 113,
   "metadata": {},
   "outputs": [
    {
     "name": "stderr",
     "output_type": "stream",
     "text": [
      "100%|███████████████████████████████████████████████████████████████████████| 152716/152716 [12:47:35<00:00,  3.32it/s]\n"
     ]
    }
   ],
   "source": [
    "# list to capture purchase history of the customers\n",
    "purchases_train = []\n",
    "\n",
    "# populate the list with the product codes\n",
    "for i in tqdm(customers_train):\n",
    "    temp = train_df[train_df[\"user_id\"] == i][\"product_id\"].tolist()\n",
    "    purchases_train.append(temp)"
   ]
  },
  {
   "cell_type": "code",
   "execution_count": 114,
   "metadata": {},
   "outputs": [
    {
     "name": "stderr",
     "output_type": "stream",
     "text": [
      "100%|████████████████████████████████████████████████████████████████████████████| 16968/16968 [10:36<00:00, 26.67it/s]\n"
     ]
    }
   ],
   "source": [
    "# list to capture purchase history of the customers\n",
    "purchases_val = []\n",
    "\n",
    "# populate the list with the product codes\n",
    "for i in tqdm(validation_df['user_id'].unique()):\n",
    "    temp = validation_df[validation_df[\"user_id\"] == i][\"product_id\"].tolist()\n",
    "    purchases_val.append(temp)"
   ]
  },
  {
   "cell_type": "code",
   "execution_count": 115,
   "metadata": {},
   "outputs": [
    {
     "data": {
      "text/plain": [
       "(8293434, 9005740)"
      ]
     },
     "execution_count": 115,
     "metadata": {},
     "output_type": "execute_result"
    }
   ],
   "source": [
    "# train word2vec model\n",
    "model = Word2Vec(window = 10, sg = 1, hs = 0,\n",
    "                 negative = 10, # for negative sampling\n",
    "                 alpha=0.03, min_alpha=0.0007,\n",
    "                 seed = 14)\n",
    "\n",
    "model.build_vocab(purchases_train, progress_per=200)\n",
    "\n",
    "model.train(purchases_train, total_examples = model.corpus_count, \n",
    "            epochs=10, report_delay=1)"
   ]
  },
  {
   "cell_type": "code",
   "execution_count": 116,
   "metadata": {},
   "outputs": [],
   "source": [
    "# save word2vec model\n",
    "model.save(\"word2vec_2.model\")"
   ]
  },
  {
   "cell_type": "code",
   "execution_count": 117,
   "metadata": {},
   "outputs": [],
   "source": [
    "model.init_sims(replace=True)"
   ]
  },
  {
   "cell_type": "code",
   "execution_count": 118,
   "metadata": {},
   "outputs": [
    {
     "name": "stdout",
     "output_type": "stream",
     "text": [
      "Word2Vec(vocab=16169, size=100, alpha=0.03)\n"
     ]
    }
   ],
   "source": [
    "print(model)"
   ]
  },
  {
   "cell_type": "code",
   "execution_count": 119,
   "metadata": {},
   "outputs": [
    {
     "name": "stderr",
     "output_type": "stream",
     "text": [
      "C:\\Anaconda3\\lib\\site-packages\\ipykernel_launcher.py:2: DeprecationWarning: Call to deprecated `__getitem__` (Method will be removed in 4.0.0, use self.wv.__getitem__() instead).\n",
      "  \n"
     ]
    },
    {
     "data": {
      "text/plain": [
       "(16169, 100)"
      ]
     },
     "execution_count": 119,
     "metadata": {},
     "output_type": "execute_result"
    }
   ],
   "source": [
    "# extract all vectors\n",
    "X = model[model.wv.vocab]\n",
    "\n",
    "X.shape"
   ]
  },
  {
   "cell_type": "code",
   "execution_count": 120,
   "metadata": {},
   "outputs": [
    {
     "name": "stderr",
     "output_type": "stream",
     "text": [
      "C:\\Anaconda3\\lib\\site-packages\\ipykernel_launcher.py:4: SettingWithCopyWarning: \n",
      "A value is trying to be set on a copy of a slice from a DataFrame\n",
      "\n",
      "See the caveats in the documentation: https://pandas.pydata.org/pandas-docs/stable/user_guide/indexing.html#returning-a-view-versus-a-copy\n",
      "  after removing the cwd from sys.path.\n"
     ]
    }
   ],
   "source": [
    "products = train_df[[\"product_id\", \"product_name\"]]\n",
    "\n",
    "# remove duplicates\n",
    "products.drop_duplicates(inplace=True, subset='product_id', keep=\"last\")\n",
    "\n",
    "# create product-ID and product-description dictionary\n",
    "products_dict = products.groupby('product_id')['product_name'].apply(list).to_dict()"
   ]
  },
  {
   "cell_type": "code",
   "execution_count": 121,
   "metadata": {},
   "outputs": [],
   "source": [
    "def similar_products(v, n = 6):\n",
    "    \n",
    "    # extract most similar products for the input vector\n",
    "    ms = model.similar_by_vector(v, topn= n+1)[1:]\n",
    "    \n",
    "    # extract name and similarity score of the similar products\n",
    "    new_ms = []\n",
    "    for j in ms:\n",
    "        pair = (products_dict[j[0]][0], j[1])\n",
    "        new_ms.append(pair)\n",
    "        \n",
    "    return new_ms "
   ]
  },
  {
   "cell_type": "code",
   "execution_count": 122,
   "metadata": {},
   "outputs": [
    {
     "data": {
      "text/plain": [
       "['Cola Soft Drink']"
      ]
     },
     "execution_count": 122,
     "metadata": {},
     "output_type": "execute_result"
    }
   ],
   "source": [
    "products_dict['10032']"
   ]
  },
  {
   "cell_type": "code",
   "execution_count": 123,
   "metadata": {},
   "outputs": [
    {
     "name": "stderr",
     "output_type": "stream",
     "text": [
      "C:\\Anaconda3\\lib\\site-packages\\ipykernel_launcher.py:1: DeprecationWarning: Call to deprecated `__getitem__` (Method will be removed in 4.0.0, use self.wv.__getitem__() instead).\n",
      "  \"\"\"Entry point for launching an IPython kernel.\n",
      "C:\\Anaconda3\\lib\\site-packages\\ipykernel_launcher.py:4: DeprecationWarning: Call to deprecated `similar_by_vector` (Method will be removed in 4.0.0, use self.wv.similar_by_vector() instead).\n",
      "  after removing the cwd from sys.path.\n"
     ]
    },
    {
     "data": {
      "text/plain": [
       "[('Dog Food With Beef in Meaty Juices', 0.6465246081352234),\n",
       " ('Light Blackberry Yogurt', 0.6453588008880615),\n",
       " (\"Bold Salt 'n Vinegar Almonds\", 0.6373338103294373),\n",
       " ('Whipped Vanilla Frosting', 0.6372911334037781),\n",
       " ('Brown Basmati Ready Rice', 0.6370280385017395),\n",
       " ('Makeup Remover Cleansing Towelettes Refill', 0.6356369256973267)]"
      ]
     },
     "execution_count": 123,
     "metadata": {},
     "output_type": "execute_result"
    }
   ],
   "source": [
    "similar_products(model['10032'])"
   ]
  },
  {
   "cell_type": "markdown",
   "metadata": {},
   "source": [
    "Product Recommendations do not seem to be very close to the random product (Cola Soft Drink) chosen as a reference"
   ]
  },
  {
   "cell_type": "markdown",
   "metadata": {},
   "source": [
    "# 2nd Approach"
   ]
  },
  {
   "cell_type": "markdown",
   "metadata": {},
   "source": [
    "Let's try a different approach to predict recommend similar products more accurately"
   ]
  },
  {
   "cell_type": "markdown",
   "metadata": {},
   "source": [
    "## Products"
   ]
  },
  {
   "cell_type": "code",
   "execution_count": 123,
   "metadata": {},
   "outputs": [],
   "source": [
    "#load data\n",
    "products = pd.read_csv(\"products.csv\")\n",
    "departments = pd.read_csv(\"departments.csv\")\n",
    "aisles = pd.read_csv(\"aisles.csv\")\n",
    "order_products_prior = pd.read_csv(\"order_products__prior.csv\")"
   ]
  },
  {
   "cell_type": "code",
   "execution_count": 124,
   "metadata": {},
   "outputs": [
    {
     "data": {
      "text/html": [
       "<div>\n",
       "<style scoped>\n",
       "    .dataframe tbody tr th:only-of-type {\n",
       "        vertical-align: middle;\n",
       "    }\n",
       "\n",
       "    .dataframe tbody tr th {\n",
       "        vertical-align: top;\n",
       "    }\n",
       "\n",
       "    .dataframe thead th {\n",
       "        text-align: right;\n",
       "    }\n",
       "</style>\n",
       "<table border=\"1\" class=\"dataframe\">\n",
       "  <thead>\n",
       "    <tr style=\"text-align: right;\">\n",
       "      <th></th>\n",
       "      <th>product_id</th>\n",
       "      <th>product_name</th>\n",
       "      <th>aisle_id</th>\n",
       "      <th>department_id</th>\n",
       "      <th>Products_mod</th>\n",
       "    </tr>\n",
       "  </thead>\n",
       "  <tbody>\n",
       "    <tr>\n",
       "      <th>0</th>\n",
       "      <td>1</td>\n",
       "      <td>Chocolate Sandwich Cookies</td>\n",
       "      <td>61</td>\n",
       "      <td>19</td>\n",
       "      <td>[chocolate, sandwich, cookies]</td>\n",
       "    </tr>\n",
       "    <tr>\n",
       "      <th>1</th>\n",
       "      <td>2</td>\n",
       "      <td>All-Seasons Salt</td>\n",
       "      <td>104</td>\n",
       "      <td>13</td>\n",
       "      <td>[all, seasons, salt]</td>\n",
       "    </tr>\n",
       "    <tr>\n",
       "      <th>2</th>\n",
       "      <td>3</td>\n",
       "      <td>Robust Golden Unsweetened Oolong Tea</td>\n",
       "      <td>94</td>\n",
       "      <td>7</td>\n",
       "      <td>[robust, golden, unsweetened, oolong, tea]</td>\n",
       "    </tr>\n",
       "    <tr>\n",
       "      <th>3</th>\n",
       "      <td>4</td>\n",
       "      <td>Smart Ones Classic Favorites Mini Rigatoni Wit...</td>\n",
       "      <td>38</td>\n",
       "      <td>1</td>\n",
       "      <td>[smart, ones, classic, favorites, mini, rigato...</td>\n",
       "    </tr>\n",
       "    <tr>\n",
       "      <th>4</th>\n",
       "      <td>5</td>\n",
       "      <td>Green Chile Anytime Sauce</td>\n",
       "      <td>5</td>\n",
       "      <td>13</td>\n",
       "      <td>[green, chile, anytime, sauce]</td>\n",
       "    </tr>\n",
       "  </tbody>\n",
       "</table>\n",
       "</div>"
      ],
      "text/plain": [
       "   product_id                                       product_name  aisle_id  \\\n",
       "0           1                         Chocolate Sandwich Cookies        61   \n",
       "1           2                                   All-Seasons Salt       104   \n",
       "2           3               Robust Golden Unsweetened Oolong Tea        94   \n",
       "3           4  Smart Ones Classic Favorites Mini Rigatoni Wit...        38   \n",
       "4           5                          Green Chile Anytime Sauce         5   \n",
       "\n",
       "   department_id                                       Products_mod  \n",
       "0             19                     [chocolate, sandwich, cookies]  \n",
       "1             13                               [all, seasons, salt]  \n",
       "2              7         [robust, golden, unsweetened, oolong, tea]  \n",
       "3              1  [smart, ones, classic, favorites, mini, rigato...  \n",
       "4             13                     [green, chile, anytime, sauce]  "
      ]
     },
     "execution_count": 124,
     "metadata": {},
     "output_type": "execute_result"
    }
   ],
   "source": [
    "# Make everything lowercase.\n",
    "products['Products_mod'] = products['product_name'].str.lower()\n",
    "\n",
    "# Clean special characters.\n",
    "products['Products_mod'] = products['Products_mod'].str.replace('\\W', ' ')\n",
    "\n",
    "#consider stemming (word root)\n",
    "\n",
    "# Split products into terms: Tokenize.\n",
    "products['Products_mod'] = products['Products_mod'].str.split()\n",
    "products.head()"
   ]
  },
  {
   "cell_type": "code",
   "execution_count": 125,
   "metadata": {},
   "outputs": [
    {
     "data": {
      "text/html": [
       "<div>\n",
       "<style scoped>\n",
       "    .dataframe tbody tr th:only-of-type {\n",
       "        vertical-align: middle;\n",
       "    }\n",
       "\n",
       "    .dataframe tbody tr th {\n",
       "        vertical-align: top;\n",
       "    }\n",
       "\n",
       "    .dataframe thead th {\n",
       "        text-align: right;\n",
       "    }\n",
       "</style>\n",
       "<table border=\"1\" class=\"dataframe\">\n",
       "  <thead>\n",
       "    <tr style=\"text-align: right;\">\n",
       "      <th></th>\n",
       "      <th>product_id</th>\n",
       "      <th>product_name</th>\n",
       "      <th>aisle_id</th>\n",
       "      <th>department_id</th>\n",
       "      <th>Products_mod</th>\n",
       "      <th>department</th>\n",
       "      <th>aisle</th>\n",
       "    </tr>\n",
       "  </thead>\n",
       "  <tbody>\n",
       "    <tr>\n",
       "      <th>0</th>\n",
       "      <td>1</td>\n",
       "      <td>Chocolate Sandwich Cookies</td>\n",
       "      <td>61</td>\n",
       "      <td>19</td>\n",
       "      <td>[chocolate, sandwich, cookies]</td>\n",
       "      <td>snacks</td>\n",
       "      <td>cookies cakes</td>\n",
       "    </tr>\n",
       "    <tr>\n",
       "      <th>1</th>\n",
       "      <td>78</td>\n",
       "      <td>Nutter Butter Cookie Bites Go-Pak</td>\n",
       "      <td>61</td>\n",
       "      <td>19</td>\n",
       "      <td>[nutter, butter, cookie, bites, go, pak]</td>\n",
       "      <td>snacks</td>\n",
       "      <td>cookies cakes</td>\n",
       "    </tr>\n",
       "    <tr>\n",
       "      <th>2</th>\n",
       "      <td>102</td>\n",
       "      <td>Danish Butter Cookies</td>\n",
       "      <td>61</td>\n",
       "      <td>19</td>\n",
       "      <td>[danish, butter, cookies]</td>\n",
       "      <td>snacks</td>\n",
       "      <td>cookies cakes</td>\n",
       "    </tr>\n",
       "    <tr>\n",
       "      <th>3</th>\n",
       "      <td>172</td>\n",
       "      <td>Gluten Free All Natural Chocolate Chip Cookies</td>\n",
       "      <td>61</td>\n",
       "      <td>19</td>\n",
       "      <td>[gluten, free, all, natural, chocolate, chip, ...</td>\n",
       "      <td>snacks</td>\n",
       "      <td>cookies cakes</td>\n",
       "    </tr>\n",
       "    <tr>\n",
       "      <th>4</th>\n",
       "      <td>285</td>\n",
       "      <td>Mini Nilla Wafers Munch Pack</td>\n",
       "      <td>61</td>\n",
       "      <td>19</td>\n",
       "      <td>[mini, nilla, wafers, munch, pack]</td>\n",
       "      <td>snacks</td>\n",
       "      <td>cookies cakes</td>\n",
       "    </tr>\n",
       "  </tbody>\n",
       "</table>\n",
       "</div>"
      ],
      "text/plain": [
       "   product_id                                    product_name  aisle_id  \\\n",
       "0           1                      Chocolate Sandwich Cookies        61   \n",
       "1          78               Nutter Butter Cookie Bites Go-Pak        61   \n",
       "2         102                           Danish Butter Cookies        61   \n",
       "3         172  Gluten Free All Natural Chocolate Chip Cookies        61   \n",
       "4         285                    Mini Nilla Wafers Munch Pack        61   \n",
       "\n",
       "   department_id                                       Products_mod  \\\n",
       "0             19                     [chocolate, sandwich, cookies]   \n",
       "1             19           [nutter, butter, cookie, bites, go, pak]   \n",
       "2             19                          [danish, butter, cookies]   \n",
       "3             19  [gluten, free, all, natural, chocolate, chip, ...   \n",
       "4             19                 [mini, nilla, wafers, munch, pack]   \n",
       "\n",
       "  department          aisle  \n",
       "0     snacks  cookies cakes  \n",
       "1     snacks  cookies cakes  \n",
       "2     snacks  cookies cakes  \n",
       "3     snacks  cookies cakes  \n",
       "4     snacks  cookies cakes  "
      ]
     },
     "execution_count": 125,
     "metadata": {},
     "output_type": "execute_result"
    }
   ],
   "source": [
    "#add information on department and aisle to the products\n",
    "products = pd.merge(products, departments, on=\"department_id\", how='outer')\n",
    "products = pd.merge(products, aisles, on=\"aisle_id\", how='outer')\n",
    "products.head()"
   ]
  },
  {
   "cell_type": "code",
   "execution_count": 126,
   "metadata": {},
   "outputs": [
    {
     "name": "stderr",
     "output_type": "stream",
     "text": [
      "49688it [00:05, 8444.79it/s]\n"
     ]
    },
    {
     "data": {
      "text/html": [
       "<div>\n",
       "<style scoped>\n",
       "    .dataframe tbody tr th:only-of-type {\n",
       "        vertical-align: middle;\n",
       "    }\n",
       "\n",
       "    .dataframe tbody tr th {\n",
       "        vertical-align: top;\n",
       "    }\n",
       "\n",
       "    .dataframe thead th {\n",
       "        text-align: right;\n",
       "    }\n",
       "</style>\n",
       "<table border=\"1\" class=\"dataframe\">\n",
       "  <thead>\n",
       "    <tr style=\"text-align: right;\">\n",
       "      <th></th>\n",
       "      <th>product_id</th>\n",
       "      <th>product_name</th>\n",
       "      <th>aisle_id</th>\n",
       "      <th>department_id</th>\n",
       "      <th>Products_mod</th>\n",
       "      <th>department</th>\n",
       "      <th>aisle</th>\n",
       "    </tr>\n",
       "  </thead>\n",
       "  <tbody>\n",
       "    <tr>\n",
       "      <th>0</th>\n",
       "      <td>1</td>\n",
       "      <td>Chocolate Sandwich Cookies</td>\n",
       "      <td>61</td>\n",
       "      <td>19</td>\n",
       "      <td>[chocolate, sandwich, cookies, cookies cakes, ...</td>\n",
       "      <td>snacks</td>\n",
       "      <td>cookies cakes</td>\n",
       "    </tr>\n",
       "    <tr>\n",
       "      <th>1</th>\n",
       "      <td>78</td>\n",
       "      <td>Nutter Butter Cookie Bites Go-Pak</td>\n",
       "      <td>61</td>\n",
       "      <td>19</td>\n",
       "      <td>[nutter, butter, cookie, bites, go, pak, cooki...</td>\n",
       "      <td>snacks</td>\n",
       "      <td>cookies cakes</td>\n",
       "    </tr>\n",
       "    <tr>\n",
       "      <th>2</th>\n",
       "      <td>102</td>\n",
       "      <td>Danish Butter Cookies</td>\n",
       "      <td>61</td>\n",
       "      <td>19</td>\n",
       "      <td>[danish, butter, cookies, cookies cakes, snacks]</td>\n",
       "      <td>snacks</td>\n",
       "      <td>cookies cakes</td>\n",
       "    </tr>\n",
       "    <tr>\n",
       "      <th>3</th>\n",
       "      <td>172</td>\n",
       "      <td>Gluten Free All Natural Chocolate Chip Cookies</td>\n",
       "      <td>61</td>\n",
       "      <td>19</td>\n",
       "      <td>[gluten, free, all, natural, chocolate, chip, ...</td>\n",
       "      <td>snacks</td>\n",
       "      <td>cookies cakes</td>\n",
       "    </tr>\n",
       "    <tr>\n",
       "      <th>4</th>\n",
       "      <td>285</td>\n",
       "      <td>Mini Nilla Wafers Munch Pack</td>\n",
       "      <td>61</td>\n",
       "      <td>19</td>\n",
       "      <td>[mini, nilla, wafers, munch, pack, cookies cak...</td>\n",
       "      <td>snacks</td>\n",
       "      <td>cookies cakes</td>\n",
       "    </tr>\n",
       "  </tbody>\n",
       "</table>\n",
       "</div>"
      ],
      "text/plain": [
       "   product_id                                    product_name  aisle_id  \\\n",
       "0           1                      Chocolate Sandwich Cookies        61   \n",
       "1          78               Nutter Butter Cookie Bites Go-Pak        61   \n",
       "2         102                           Danish Butter Cookies        61   \n",
       "3         172  Gluten Free All Natural Chocolate Chip Cookies        61   \n",
       "4         285                    Mini Nilla Wafers Munch Pack        61   \n",
       "\n",
       "   department_id                                       Products_mod  \\\n",
       "0             19  [chocolate, sandwich, cookies, cookies cakes, ...   \n",
       "1             19  [nutter, butter, cookie, bites, go, pak, cooki...   \n",
       "2             19   [danish, butter, cookies, cookies cakes, snacks]   \n",
       "3             19  [gluten, free, all, natural, chocolate, chip, ...   \n",
       "4             19  [mini, nilla, wafers, munch, pack, cookies cak...   \n",
       "\n",
       "  department          aisle  \n",
       "0     snacks  cookies cakes  \n",
       "1     snacks  cookies cakes  \n",
       "2     snacks  cookies cakes  \n",
       "3     snacks  cookies cakes  \n",
       "4     snacks  cookies cakes  "
      ]
     },
     "execution_count": 126,
     "metadata": {},
     "output_type": "execute_result"
    }
   ],
   "source": [
    "# Add the aisle and department information to the data that will go into the model.\n",
    "\n",
    "for index, row in tqdm(products.iterrows()):\n",
    "    row['Products_mod'].append(row['aisle'])\n",
    "    row['Products_mod'].append(row['department'])\n",
    "\n",
    "products.head()"
   ]
  },
  {
   "cell_type": "code",
   "execution_count": 127,
   "metadata": {},
   "outputs": [],
   "source": [
    "from gensim.models import Word2Vec\n",
    "\n",
    "# In order to make TSNE a little bit quicker and for memory efficiency we're going to use 20 dimensions: size=20\n",
    "# In order to make sure all words are used in training the model, we're going to set a large - window=10. \n",
    "w2vec_model = Word2Vec(list(products['Products_mod']), size=20, window=10, min_count=1, workers=4)"
   ]
  },
  {
   "cell_type": "code",
   "execution_count": 128,
   "metadata": {},
   "outputs": [],
   "source": [
    "# Create  dictionaries to obtain product vectors\n",
    "\n",
    "prod_word = dict()\n",
    "for w in w2vec_model.wv.vocab:\n",
    "    prod_word[w] = w2vec_model[w]"
   ]
  },
  {
   "cell_type": "code",
   "execution_count": 129,
   "metadata": {},
   "outputs": [
    {
     "name": "stderr",
     "output_type": "stream",
     "text": [
      "49688it [00:05, 9145.17it/s]\n"
     ]
    }
   ],
   "source": [
    "# VECTOR CALCULATION FOR PRODUCTS\n",
    "# Cycle through each word in the product name to generate the vector.\n",
    "prods_w2v = dict()\n",
    "for row, product in tqdm(products.iterrows()):\n",
    "    word_vector = list()\n",
    "    for word in product['Products_mod']:\n",
    "        word_vector.append(prod_word[word])\n",
    "\n",
    "    prods_w2v[product['product_id']] = np.average(word_vector, axis=0)"
   ]
  },
  {
   "cell_type": "code",
   "execution_count": 130,
   "metadata": {},
   "outputs": [],
   "source": [
    "# Save vector values in list form to the dataframe. \n",
    "products['vectors']=prods_w2v.values()"
   ]
  },
  {
   "cell_type": "code",
   "execution_count": 131,
   "metadata": {},
   "outputs": [
    {
     "data": {
      "text/plain": [
       "(-0.4591697,\n",
       " 3.5028949,\n",
       " -0.89085436,\n",
       " 2.8362005,\n",
       " 0.876142,\n",
       " 0.5795392,\n",
       " 1.0050905,\n",
       " -0.40805572,\n",
       " -0.79392177,\n",
       " 0.92840624,\n",
       " 2.507697,\n",
       " -0.5482615,\n",
       " 0.66840154,\n",
       " 1.2964951,\n",
       " -0.1675477,\n",
       " -0.45929322,\n",
       " -1.0938169,\n",
       " 2.084575,\n",
       " -1.7902025,\n",
       " -0.17734194)"
      ]
     },
     "execution_count": 131,
     "metadata": {},
     "output_type": "execute_result"
    }
   ],
   "source": [
    "products.vectors[0]"
   ]
  },
  {
   "cell_type": "code",
   "execution_count": 132,
   "metadata": {},
   "outputs": [],
   "source": [
    "# Create a dataframe to make it easier to sample. \n",
    "# Around 5000 examples is acceptable. \n",
    "df_tsne_data = products.sample(n=5000, random_state=1)"
   ]
  },
  {
   "cell_type": "code",
   "execution_count": 133,
   "metadata": {},
   "outputs": [
    {
     "data": {
      "text/html": [
       "<div>\n",
       "<style scoped>\n",
       "    .dataframe tbody tr th:only-of-type {\n",
       "        vertical-align: middle;\n",
       "    }\n",
       "\n",
       "    .dataframe tbody tr th {\n",
       "        vertical-align: top;\n",
       "    }\n",
       "\n",
       "    .dataframe thead th {\n",
       "        text-align: right;\n",
       "    }\n",
       "</style>\n",
       "<table border=\"1\" class=\"dataframe\">\n",
       "  <thead>\n",
       "    <tr style=\"text-align: right;\">\n",
       "      <th></th>\n",
       "      <th>product_id</th>\n",
       "      <th>product_name</th>\n",
       "      <th>aisle_id</th>\n",
       "      <th>department_id</th>\n",
       "      <th>Products_mod</th>\n",
       "      <th>department</th>\n",
       "      <th>aisle</th>\n",
       "      <th>vectors</th>\n",
       "    </tr>\n",
       "  </thead>\n",
       "  <tbody>\n",
       "    <tr>\n",
       "      <th>22401</th>\n",
       "      <td>35807</td>\n",
       "      <td>Moisture Outlast Age Defying Beauty Bar 3.75 o...</td>\n",
       "      <td>127</td>\n",
       "      <td>11</td>\n",
       "      <td>[moisture, outlast, age, defying, beauty, bar,...</td>\n",
       "      <td>personal care</td>\n",
       "      <td>body lotions soap</td>\n",
       "      <td>(-0.30952835, 1.2368098, 0.11190534, 0.3798840...</td>\n",
       "    </tr>\n",
       "    <tr>\n",
       "      <th>14796</th>\n",
       "      <td>12187</td>\n",
       "      <td>Ground Coffee Classico Medium Roast</td>\n",
       "      <td>26</td>\n",
       "      <td>7</td>\n",
       "      <td>[ground, coffee, classico, medium, roast, coff...</td>\n",
       "      <td>beverages</td>\n",
       "      <td>coffee</td>\n",
       "      <td>(-0.87528974, 1.9106483, 0.2749686, -1.5110573...</td>\n",
       "    </tr>\n",
       "    <tr>\n",
       "      <th>38552</th>\n",
       "      <td>31670</td>\n",
       "      <td>Buttermilk Complete Pancake Mix</td>\n",
       "      <td>130</td>\n",
       "      <td>14</td>\n",
       "      <td>[buttermilk, complete, pancake, mix, hot cerea...</td>\n",
       "      <td>breakfast</td>\n",
       "      <td>hot cereal pancake mixes</td>\n",
       "      <td>(-0.79104424, 1.7147344, -0.3796676, 2.402764,...</td>\n",
       "    </tr>\n",
       "    <tr>\n",
       "      <th>11805</th>\n",
       "      <td>8416</td>\n",
       "      <td>Organic Master Brew Kombucha Dragonfruit Lemon...</td>\n",
       "      <td>94</td>\n",
       "      <td>7</td>\n",
       "      <td>[organic, master, brew, kombucha, dragonfruit,...</td>\n",
       "      <td>beverages</td>\n",
       "      <td>tea</td>\n",
       "      <td>(-1.0022902, 0.9229798, -0.47185242, 0.5597448...</td>\n",
       "    </tr>\n",
       "    <tr>\n",
       "      <th>9336</th>\n",
       "      <td>46306</td>\n",
       "      <td>100% Pure Avocado Oil</td>\n",
       "      <td>19</td>\n",
       "      <td>13</td>\n",
       "      <td>[100, pure, avocado, oil, oils vinegars, pantry]</td>\n",
       "      <td>pantry</td>\n",
       "      <td>oils vinegars</td>\n",
       "      <td>(-1.0439683, 1.324132, 2.1402419, 0.88396114, ...</td>\n",
       "    </tr>\n",
       "  </tbody>\n",
       "</table>\n",
       "</div>"
      ],
      "text/plain": [
       "       product_id                                       product_name  \\\n",
       "22401       35807  Moisture Outlast Age Defying Beauty Bar 3.75 o...   \n",
       "14796       12187                Ground Coffee Classico Medium Roast   \n",
       "38552       31670                    Buttermilk Complete Pancake Mix   \n",
       "11805        8416  Organic Master Brew Kombucha Dragonfruit Lemon...   \n",
       "9336        46306                              100% Pure Avocado Oil   \n",
       "\n",
       "       aisle_id  department_id  \\\n",
       "22401       127             11   \n",
       "14796        26              7   \n",
       "38552       130             14   \n",
       "11805        94              7   \n",
       "9336         19             13   \n",
       "\n",
       "                                            Products_mod     department  \\\n",
       "22401  [moisture, outlast, age, defying, beauty, bar,...  personal care   \n",
       "14796  [ground, coffee, classico, medium, roast, coff...      beverages   \n",
       "38552  [buttermilk, complete, pancake, mix, hot cerea...      breakfast   \n",
       "11805  [organic, master, brew, kombucha, dragonfruit,...      beverages   \n",
       "9336    [100, pure, avocado, oil, oils vinegars, pantry]         pantry   \n",
       "\n",
       "                          aisle  \\\n",
       "22401         body lotions soap   \n",
       "14796                    coffee   \n",
       "38552  hot cereal pancake mixes   \n",
       "11805                       tea   \n",
       "9336              oils vinegars   \n",
       "\n",
       "                                                 vectors  \n",
       "22401  (-0.30952835, 1.2368098, 0.11190534, 0.3798840...  \n",
       "14796  (-0.87528974, 1.9106483, 0.2749686, -1.5110573...  \n",
       "38552  (-0.79104424, 1.7147344, -0.3796676, 2.402764,...  \n",
       "11805  (-1.0022902, 0.9229798, -0.47185242, 0.5597448...  \n",
       "9336   (-1.0439683, 1.324132, 2.1402419, 0.88396114, ...  "
      ]
     },
     "execution_count": 133,
     "metadata": {},
     "output_type": "execute_result"
    }
   ],
   "source": [
    "df_tsne_data.head()"
   ]
  },
  {
   "cell_type": "code",
   "execution_count": 134,
   "metadata": {},
   "outputs": [],
   "source": [
    "# Import the SKLEARN LIBRARY\n",
    "from sklearn.manifold import TSNE\n",
    "import matplotlib.pyplot as plt\n",
    "%matplotlib inline\n",
    "\n",
    "# Train the TSNE MODEL\n",
    "tsne_model = TSNE(perplexity=30, n_components=2, init='pca', n_iter=3500, random_state=23)\n",
    "new_values = tsne_model.fit_transform(list(df_tsne_data['vectors']))"
   ]
  },
  {
   "cell_type": "code",
   "execution_count": 135,
   "metadata": {},
   "outputs": [],
   "source": [
    "# We want to recover also the texts to understand what's going on. \n",
    "w2vec_tsne = df_tsne_data['vectors']\n",
    "sentences = df_tsne_data['Products_mod']"
   ]
  },
  {
   "cell_type": "code",
   "execution_count": 136,
   "metadata": {},
   "outputs": [
    {
     "data": {
      "text/plain": [
       "'basic-scatter_normal.html'"
      ]
     },
     "execution_count": 136,
     "metadata": {},
     "output_type": "execute_result"
    }
   ],
   "source": [
    "import plotly.offline as pyo\n",
    "import plotly.graph_objs as go\n",
    "from plotly.tools import FigureFactory as FF\n",
    "\n",
    "%matplotlib inline\n",
    "\n",
    "\n",
    "x = list()\n",
    "y = list()\n",
    "for i in range(new_values.shape[0]):\n",
    "    x.append(new_values[i][0])\n",
    "    y.append(new_values[i][1])\n",
    "    \n",
    "# Create random data with numpy\n",
    "\n",
    "# Create a trace\n",
    "trace = go.Scatter(\n",
    "    x = x,\n",
    "    y = y,\n",
    "    mode = 'markers',\n",
    "    text = sentences,\n",
    "    hoverinfo = 'text',\n",
    "    marker=dict(color=list(df_tsne_data['department_id']), colorscale='Viridis',),\n",
    "\n",
    ")\n",
    "\n",
    "data = [trace]\n",
    "\n",
    "# Plot and embed in ipython notebook!\n",
    "pyo.plot(data, filename='basic-scatter_normal.html')"
   ]
  },
  {
   "cell_type": "markdown",
   "metadata": {},
   "source": [
    "Train model - using annoy with the previously created vectors as input"
   ]
  },
  {
   "cell_type": "code",
   "execution_count": 137,
   "metadata": {},
   "outputs": [],
   "source": [
    "from annoy import AnnoyIndex\n",
    "import random"
   ]
  },
  {
   "cell_type": "code",
   "execution_count": 138,
   "metadata": {},
   "outputs": [
    {
     "data": {
      "text/plain": [
       "True"
      ]
     },
     "execution_count": 138,
     "metadata": {},
     "output_type": "execute_result"
    }
   ],
   "source": [
    "# Number of dimensions of the vector annoy is going to store. \n",
    "# Make sure it's the same as the word2vec we're using!\n",
    "f = 20\n",
    "\n",
    "# Specify the metric to be used for computing distances. \n",
    "u = AnnoyIndex(f, metric='manhattan') \n",
    "\n",
    "# We can sequentially add items.\n",
    "for index, row in products.iterrows():\n",
    "    u.add_item(row['product_id'], row['vectors'])\n",
    "\n",
    "# Number of trees for queries. When making a query the more trees the easier it is to go down the right path. \n",
    "u.build(10) # 10 trees"
   ]
  },
  {
   "cell_type": "code",
   "execution_count": 139,
   "metadata": {},
   "outputs": [],
   "source": [
    "products_select = products[[\"product_id\", \"product_name\"]]"
   ]
  },
  {
   "cell_type": "code",
   "execution_count": 140,
   "metadata": {},
   "outputs": [],
   "source": [
    "#cast to str values\n",
    "products_select['product_name'] = products_select['product_name'].astype(str)"
   ]
  },
  {
   "cell_type": "code",
   "execution_count": 141,
   "metadata": {},
   "outputs": [
    {
     "name": "stdout",
     "output_type": "stream",
     "text": [
      "<class 'pandas.core.frame.DataFrame'>\n",
      "Int64Index: 49688 entries, 0 to 49687\n",
      "Data columns (total 2 columns):\n",
      " #   Column        Non-Null Count  Dtype \n",
      "---  ------        --------------  ----- \n",
      " 0   product_id    49688 non-null  int64 \n",
      " 1   product_name  49688 non-null  object\n",
      "dtypes: int64(1), object(1)\n",
      "memory usage: 2.4+ MB\n"
     ]
    }
   ],
   "source": [
    "products_select.info()"
   ]
  },
  {
   "cell_type": "code",
   "execution_count": 142,
   "metadata": {},
   "outputs": [],
   "source": [
    "# create product-ID and product-description dictionary\n",
    "prods_dict = products_select.groupby('product_id')['product_name'].apply(list).to_dict()"
   ]
  },
  {
   "cell_type": "code",
   "execution_count": 143,
   "metadata": {},
   "outputs": [],
   "source": [
    "#define function to recommend similar products\n",
    "#input is the product id and the number of recommended products (n)\n",
    "\n",
    "def similar_products(prod_id, n = 5):\n",
    "    \n",
    "    # extract most similar products for the input id\n",
    "    ms = u.get_nns_by_item(prod_id, n)\n",
    "    \n",
    "    # extract name and similarity score of the similar products\n",
    "    new_ms = list()\n",
    "    for x in ms:\n",
    "        prod_name = {key: value for key, value in prods_dict.items() if key == x}\n",
    "        new_ms.append(prod_name)\n",
    "        \n",
    "    return new_ms       "
   ]
  },
  {
   "cell_type": "code",
   "execution_count": 144,
   "metadata": {},
   "outputs": [
    {
     "data": {
      "text/plain": [
       "[{1: ['Chocolate Sandwich Cookies']},\n",
       " {37160: ['Cookies, Chocolate Chocolate Chip, Crunchy, Mini']},\n",
       " {16143: ['Chocolate Chunk Cookies']},\n",
       " {38649: ['Quinoa Cookies Chocolate Chip']},\n",
       " {23932: ['Chocolate Creme Sandwich Cookies']}]"
      ]
     },
     "execution_count": 144,
     "metadata": {},
     "output_type": "execute_result"
    }
   ],
   "source": [
    "similar_products(1,5)"
   ]
  },
  {
   "cell_type": "markdown",
   "metadata": {},
   "source": [
    "These product recommendations seem to be much closer to the initial product."
   ]
  },
  {
   "cell_type": "markdown",
   "metadata": {},
   "source": [
    "Let's compare the results if we use get_nns_by_vector instead of item."
   ]
  },
  {
   "cell_type": "code",
   "execution_count": 151,
   "metadata": {},
   "outputs": [
    {
     "name": "stdout",
     "output_type": "stream",
     "text": [
      "0    (-0.4591697, 3.5028949, -0.89085436, 2.8362005...\n",
      "Name: vectors, dtype: object\n"
     ]
    }
   ],
   "source": [
    "print(products.vectors[products.product_name=='Chocolate Sandwich Cookies'])"
   ]
  },
  {
   "cell_type": "code",
   "execution_count": 33,
   "metadata": {},
   "outputs": [],
   "source": [
    "def similar_vectors(v, n = 5):\n",
    "    \n",
    "    # extract most similar products for the input vector\n",
    "    ms = u.get_nns_by_vector(v, n, search_k=-1, include_distances=False)\n",
    "    \n",
    "    # extract name and similarity score of the similar products\n",
    "    new_ms = list()\n",
    "    for x in ms:\n",
    "        prod_name = {key: value for key, value in prods_dict.items() if key == x}\n",
    "        new_ms.append(prod_name)\n",
    "        \n",
    "    return new_ms       "
   ]
  },
  {
   "cell_type": "code",
   "execution_count": 153,
   "metadata": {},
   "outputs": [
    {
     "data": {
      "text/plain": [
       "[{1: ['Chocolate Sandwich Cookies']},\n",
       " {37160: ['Cookies, Chocolate Chocolate Chip, Crunchy, Mini']},\n",
       " {16143: ['Chocolate Chunk Cookies']},\n",
       " {38649: ['Quinoa Cookies Chocolate Chip']},\n",
       " {23932: ['Chocolate Creme Sandwich Cookies']}]"
      ]
     },
     "execution_count": 153,
     "metadata": {},
     "output_type": "execute_result"
    }
   ],
   "source": [
    "similar_vectors((-0.4591697,\n",
    " 3.5028949,\n",
    " -0.89085436,\n",
    " 2.8362005,\n",
    " 0.876142,\n",
    " 0.5795392,\n",
    " 1.0050905,\n",
    " -0.40805572,\n",
    " -0.79392177,\n",
    " 0.92840624,\n",
    " 2.507697,\n",
    " -0.5482615,\n",
    " 0.66840154,\n",
    " 1.2964951,\n",
    " -0.1675477,\n",
    " -0.45929322,\n",
    " -1.0938169,\n",
    " 2.084575,\n",
    " -1.7902025,\n",
    " -0.17734194))"
   ]
  },
  {
   "cell_type": "markdown",
   "metadata": {},
   "source": [
    "We can observe that the result - using the product as input - is exactly the same"
   ]
  },
  {
   "cell_type": "code",
   "execution_count": 154,
   "metadata": {},
   "outputs": [
    {
     "data": {
      "text/plain": [
       "True"
      ]
     },
     "execution_count": 154,
     "metadata": {},
     "output_type": "execute_result"
    }
   ],
   "source": [
    "similar_vectors((-0.4591697,\n",
    " 3.5028949,\n",
    " -0.89085436,\n",
    " 2.8362005,\n",
    " 0.876142,\n",
    " 0.5795392,\n",
    " 1.0050905,\n",
    " -0.40805572,\n",
    " -0.79392177,\n",
    " 0.92840624,\n",
    " 2.507697,\n",
    " -0.5482615,\n",
    " 0.66840154,\n",
    " 1.2964951,\n",
    " -0.1675477,\n",
    " -0.45929322,\n",
    " -1.0938169,\n",
    " 2.084575,\n",
    " -1.7902025,\n",
    " -0.17734194))== similar_products(1,5)"
   ]
  },
  {
   "cell_type": "markdown",
   "metadata": {},
   "source": [
    "## Baskets"
   ]
  },
  {
   "cell_type": "markdown",
   "metadata": {},
   "source": [
    "Create Vectors for Baskets and Orders"
   ]
  },
  {
   "cell_type": "code",
   "execution_count": 36,
   "metadata": {},
   "outputs": [
    {
     "data": {
      "text/html": [
       "<div>\n",
       "<style scoped>\n",
       "    .dataframe tbody tr th:only-of-type {\n",
       "        vertical-align: middle;\n",
       "    }\n",
       "\n",
       "    .dataframe tbody tr th {\n",
       "        vertical-align: top;\n",
       "    }\n",
       "\n",
       "    .dataframe thead th {\n",
       "        text-align: right;\n",
       "    }\n",
       "</style>\n",
       "<table border=\"1\" class=\"dataframe\">\n",
       "  <thead>\n",
       "    <tr style=\"text-align: right;\">\n",
       "      <th></th>\n",
       "      <th>order_id</th>\n",
       "      <th>product_id</th>\n",
       "      <th>add_to_cart_order</th>\n",
       "      <th>reordered</th>\n",
       "    </tr>\n",
       "  </thead>\n",
       "  <tbody>\n",
       "    <tr>\n",
       "      <th>0</th>\n",
       "      <td>2</td>\n",
       "      <td>33120</td>\n",
       "      <td>1</td>\n",
       "      <td>1</td>\n",
       "    </tr>\n",
       "    <tr>\n",
       "      <th>1</th>\n",
       "      <td>2</td>\n",
       "      <td>28985</td>\n",
       "      <td>2</td>\n",
       "      <td>1</td>\n",
       "    </tr>\n",
       "    <tr>\n",
       "      <th>2</th>\n",
       "      <td>2</td>\n",
       "      <td>9327</td>\n",
       "      <td>3</td>\n",
       "      <td>0</td>\n",
       "    </tr>\n",
       "    <tr>\n",
       "      <th>3</th>\n",
       "      <td>2</td>\n",
       "      <td>45918</td>\n",
       "      <td>4</td>\n",
       "      <td>1</td>\n",
       "    </tr>\n",
       "    <tr>\n",
       "      <th>4</th>\n",
       "      <td>2</td>\n",
       "      <td>30035</td>\n",
       "      <td>5</td>\n",
       "      <td>0</td>\n",
       "    </tr>\n",
       "  </tbody>\n",
       "</table>\n",
       "</div>"
      ],
      "text/plain": [
       "   order_id  product_id  add_to_cart_order  reordered\n",
       "0         2       33120                  1          1\n",
       "1         2       28985                  2          1\n",
       "2         2        9327                  3          0\n",
       "3         2       45918                  4          1\n",
       "4         2       30035                  5          0"
      ]
     },
     "execution_count": 36,
     "metadata": {},
     "output_type": "execute_result"
    }
   ],
   "source": [
    "order_products_prior = pd.read_csv(\"order_products__prior.csv\")\n",
    "order_products_prior.head()"
   ]
  },
  {
   "cell_type": "code",
   "execution_count": 37,
   "metadata": {},
   "outputs": [
    {
     "data": {
      "text/html": [
       "<div>\n",
       "<style scoped>\n",
       "    .dataframe tbody tr th:only-of-type {\n",
       "        vertical-align: middle;\n",
       "    }\n",
       "\n",
       "    .dataframe tbody tr th {\n",
       "        vertical-align: top;\n",
       "    }\n",
       "\n",
       "    .dataframe thead th {\n",
       "        text-align: right;\n",
       "    }\n",
       "</style>\n",
       "<table border=\"1\" class=\"dataframe\">\n",
       "  <thead>\n",
       "    <tr style=\"text-align: right;\">\n",
       "      <th></th>\n",
       "      <th>order_id</th>\n",
       "      <th>product_id</th>\n",
       "      <th>add_to_cart_order</th>\n",
       "      <th>reordered</th>\n",
       "      <th>product_name</th>\n",
       "    </tr>\n",
       "  </thead>\n",
       "  <tbody>\n",
       "    <tr>\n",
       "      <th>0</th>\n",
       "      <td>2</td>\n",
       "      <td>33120</td>\n",
       "      <td>1</td>\n",
       "      <td>1</td>\n",
       "      <td>Organic Egg Whites</td>\n",
       "    </tr>\n",
       "    <tr>\n",
       "      <th>1</th>\n",
       "      <td>2</td>\n",
       "      <td>28985</td>\n",
       "      <td>2</td>\n",
       "      <td>1</td>\n",
       "      <td>Michigan Organic Kale</td>\n",
       "    </tr>\n",
       "    <tr>\n",
       "      <th>2</th>\n",
       "      <td>2</td>\n",
       "      <td>9327</td>\n",
       "      <td>3</td>\n",
       "      <td>0</td>\n",
       "      <td>Garlic Powder</td>\n",
       "    </tr>\n",
       "    <tr>\n",
       "      <th>3</th>\n",
       "      <td>2</td>\n",
       "      <td>45918</td>\n",
       "      <td>4</td>\n",
       "      <td>1</td>\n",
       "      <td>Coconut Butter</td>\n",
       "    </tr>\n",
       "    <tr>\n",
       "      <th>4</th>\n",
       "      <td>2</td>\n",
       "      <td>30035</td>\n",
       "      <td>5</td>\n",
       "      <td>0</td>\n",
       "      <td>Natural Sweetener</td>\n",
       "    </tr>\n",
       "  </tbody>\n",
       "</table>\n",
       "</div>"
      ],
      "text/plain": [
       "   order_id  product_id  add_to_cart_order  reordered           product_name\n",
       "0         2       33120                  1          1     Organic Egg Whites\n",
       "1         2       28985                  2          1  Michigan Organic Kale\n",
       "2         2        9327                  3          0          Garlic Powder\n",
       "3         2       45918                  4          1         Coconut Butter\n",
       "4         2       30035                  5          0      Natural Sweetener"
      ]
     },
     "execution_count": 37,
     "metadata": {},
     "output_type": "execute_result"
    }
   ],
   "source": [
    "order_products = pd.merge(order_products_prior, products[['product_id', 'product_name']], on=\"product_id\", how='left')\n",
    "order_products.head()"
   ]
  },
  {
   "cell_type": "code",
   "execution_count": 74,
   "metadata": {},
   "outputs": [
    {
     "data": {
      "text/html": [
       "<div>\n",
       "<style scoped>\n",
       "    .dataframe tbody tr th:only-of-type {\n",
       "        vertical-align: middle;\n",
       "    }\n",
       "\n",
       "    .dataframe tbody tr th {\n",
       "        vertical-align: top;\n",
       "    }\n",
       "\n",
       "    .dataframe thead th {\n",
       "        text-align: right;\n",
       "    }\n",
       "</style>\n",
       "<table border=\"1\" class=\"dataframe\">\n",
       "  <thead>\n",
       "    <tr style=\"text-align: right;\">\n",
       "      <th></th>\n",
       "      <th>order_id</th>\n",
       "      <th>product_id</th>\n",
       "      <th>add_to_cart_order</th>\n",
       "      <th>reordered</th>\n",
       "      <th>product_name</th>\n",
       "      <th>department</th>\n",
       "      <th>aisle</th>\n",
       "      <th>Products_mod</th>\n",
       "      <th>department_id</th>\n",
       "      <th>aisle_id</th>\n",
       "    </tr>\n",
       "  </thead>\n",
       "  <tbody>\n",
       "    <tr>\n",
       "      <th>0</th>\n",
       "      <td>2.0</td>\n",
       "      <td>33120</td>\n",
       "      <td>1.0</td>\n",
       "      <td>1.0</td>\n",
       "      <td>Organic Egg Whites</td>\n",
       "      <td>dairy eggs</td>\n",
       "      <td>eggs</td>\n",
       "      <td>[organic, egg, whites]</td>\n",
       "      <td>16</td>\n",
       "      <td>86</td>\n",
       "    </tr>\n",
       "    <tr>\n",
       "      <th>1</th>\n",
       "      <td>26.0</td>\n",
       "      <td>33120</td>\n",
       "      <td>5.0</td>\n",
       "      <td>0.0</td>\n",
       "      <td>Organic Egg Whites</td>\n",
       "      <td>dairy eggs</td>\n",
       "      <td>eggs</td>\n",
       "      <td>[organic, egg, whites]</td>\n",
       "      <td>16</td>\n",
       "      <td>86</td>\n",
       "    </tr>\n",
       "    <tr>\n",
       "      <th>2</th>\n",
       "      <td>120.0</td>\n",
       "      <td>33120</td>\n",
       "      <td>13.0</td>\n",
       "      <td>0.0</td>\n",
       "      <td>Organic Egg Whites</td>\n",
       "      <td>dairy eggs</td>\n",
       "      <td>eggs</td>\n",
       "      <td>[organic, egg, whites]</td>\n",
       "      <td>16</td>\n",
       "      <td>86</td>\n",
       "    </tr>\n",
       "    <tr>\n",
       "      <th>3</th>\n",
       "      <td>327.0</td>\n",
       "      <td>33120</td>\n",
       "      <td>5.0</td>\n",
       "      <td>1.0</td>\n",
       "      <td>Organic Egg Whites</td>\n",
       "      <td>dairy eggs</td>\n",
       "      <td>eggs</td>\n",
       "      <td>[organic, egg, whites]</td>\n",
       "      <td>16</td>\n",
       "      <td>86</td>\n",
       "    </tr>\n",
       "    <tr>\n",
       "      <th>4</th>\n",
       "      <td>390.0</td>\n",
       "      <td>33120</td>\n",
       "      <td>28.0</td>\n",
       "      <td>1.0</td>\n",
       "      <td>Organic Egg Whites</td>\n",
       "      <td>dairy eggs</td>\n",
       "      <td>eggs</td>\n",
       "      <td>[organic, egg, whites]</td>\n",
       "      <td>16</td>\n",
       "      <td>86</td>\n",
       "    </tr>\n",
       "  </tbody>\n",
       "</table>\n",
       "</div>"
      ],
      "text/plain": [
       "   order_id  product_id  add_to_cart_order  reordered        product_name  \\\n",
       "0       2.0       33120                1.0        1.0  Organic Egg Whites   \n",
       "1      26.0       33120                5.0        0.0  Organic Egg Whites   \n",
       "2     120.0       33120               13.0        0.0  Organic Egg Whites   \n",
       "3     327.0       33120                5.0        1.0  Organic Egg Whites   \n",
       "4     390.0       33120               28.0        1.0  Organic Egg Whites   \n",
       "\n",
       "   department aisle            Products_mod  department_id  aisle_id  \n",
       "0  dairy eggs  eggs  [organic, egg, whites]             16        86  \n",
       "1  dairy eggs  eggs  [organic, egg, whites]             16        86  \n",
       "2  dairy eggs  eggs  [organic, egg, whites]             16        86  \n",
       "3  dairy eggs  eggs  [organic, egg, whites]             16        86  \n",
       "4  dairy eggs  eggs  [organic, egg, whites]             16        86  "
      ]
     },
     "execution_count": 74,
     "metadata": {},
     "output_type": "execute_result"
    }
   ],
   "source": [
    "#append department and aisle to baskets\n",
    "order_products = pd.merge(order_products, products[['product_id','department_id']], on=\"product_id\", how='outer')\n",
    "order_products = pd.merge(order_products, products[['product_id','aisle_id']], on=\"product_id\", how='outer')\n",
    "order_products.head()"
   ]
  },
  {
   "cell_type": "code",
   "execution_count": 75,
   "metadata": {},
   "outputs": [
    {
     "data": {
      "text/html": [
       "<div>\n",
       "<style scoped>\n",
       "    .dataframe tbody tr th:only-of-type {\n",
       "        vertical-align: middle;\n",
       "    }\n",
       "\n",
       "    .dataframe tbody tr th {\n",
       "        vertical-align: top;\n",
       "    }\n",
       "\n",
       "    .dataframe thead th {\n",
       "        text-align: right;\n",
       "    }\n",
       "</style>\n",
       "<table border=\"1\" class=\"dataframe\">\n",
       "  <thead>\n",
       "    <tr style=\"text-align: right;\">\n",
       "      <th></th>\n",
       "      <th>order_id</th>\n",
       "      <th>product_id</th>\n",
       "      <th>add_to_cart_order</th>\n",
       "      <th>reordered</th>\n",
       "      <th>product_name</th>\n",
       "      <th>department</th>\n",
       "      <th>aisle</th>\n",
       "      <th>Products_mod</th>\n",
       "      <th>department_id</th>\n",
       "      <th>aisle_id</th>\n",
       "    </tr>\n",
       "  </thead>\n",
       "  <tbody>\n",
       "    <tr>\n",
       "      <th>0</th>\n",
       "      <td>2.0</td>\n",
       "      <td>33120</td>\n",
       "      <td>1.0</td>\n",
       "      <td>1.0</td>\n",
       "      <td>Organic Egg Whites</td>\n",
       "      <td>dairy eggs</td>\n",
       "      <td>eggs</td>\n",
       "      <td>[organic, egg, whites]</td>\n",
       "      <td>16</td>\n",
       "      <td>86</td>\n",
       "    </tr>\n",
       "    <tr>\n",
       "      <th>1</th>\n",
       "      <td>26.0</td>\n",
       "      <td>33120</td>\n",
       "      <td>5.0</td>\n",
       "      <td>0.0</td>\n",
       "      <td>Organic Egg Whites</td>\n",
       "      <td>dairy eggs</td>\n",
       "      <td>eggs</td>\n",
       "      <td>[organic, egg, whites]</td>\n",
       "      <td>16</td>\n",
       "      <td>86</td>\n",
       "    </tr>\n",
       "    <tr>\n",
       "      <th>2</th>\n",
       "      <td>120.0</td>\n",
       "      <td>33120</td>\n",
       "      <td>13.0</td>\n",
       "      <td>0.0</td>\n",
       "      <td>Organic Egg Whites</td>\n",
       "      <td>dairy eggs</td>\n",
       "      <td>eggs</td>\n",
       "      <td>[organic, egg, whites]</td>\n",
       "      <td>16</td>\n",
       "      <td>86</td>\n",
       "    </tr>\n",
       "    <tr>\n",
       "      <th>3</th>\n",
       "      <td>327.0</td>\n",
       "      <td>33120</td>\n",
       "      <td>5.0</td>\n",
       "      <td>1.0</td>\n",
       "      <td>Organic Egg Whites</td>\n",
       "      <td>dairy eggs</td>\n",
       "      <td>eggs</td>\n",
       "      <td>[organic, egg, whites]</td>\n",
       "      <td>16</td>\n",
       "      <td>86</td>\n",
       "    </tr>\n",
       "    <tr>\n",
       "      <th>4</th>\n",
       "      <td>390.0</td>\n",
       "      <td>33120</td>\n",
       "      <td>28.0</td>\n",
       "      <td>1.0</td>\n",
       "      <td>Organic Egg Whites</td>\n",
       "      <td>dairy eggs</td>\n",
       "      <td>eggs</td>\n",
       "      <td>[organic, egg, whites]</td>\n",
       "      <td>16</td>\n",
       "      <td>86</td>\n",
       "    </tr>\n",
       "  </tbody>\n",
       "</table>\n",
       "</div>"
      ],
      "text/plain": [
       "   order_id  product_id  add_to_cart_order  reordered        product_name  \\\n",
       "0       2.0       33120                1.0        1.0  Organic Egg Whites   \n",
       "1      26.0       33120                5.0        0.0  Organic Egg Whites   \n",
       "2     120.0       33120               13.0        0.0  Organic Egg Whites   \n",
       "3     327.0       33120                5.0        1.0  Organic Egg Whites   \n",
       "4     390.0       33120               28.0        1.0  Organic Egg Whites   \n",
       "\n",
       "   department aisle            Products_mod  department_id  aisle_id  \n",
       "0  dairy eggs  eggs  [organic, egg, whites]             16        86  \n",
       "1  dairy eggs  eggs  [organic, egg, whites]             16        86  \n",
       "2  dairy eggs  eggs  [organic, egg, whites]             16        86  \n",
       "3  dairy eggs  eggs  [organic, egg, whites]             16        86  \n",
       "4  dairy eggs  eggs  [organic, egg, whites]             16        86  "
      ]
     },
     "execution_count": 75,
     "metadata": {},
     "output_type": "execute_result"
    }
   ],
   "source": [
    "# Make everything lowercase.\n",
    "order_products['Products_mod'] = order_products['product_name'].str.lower()\n",
    "\n",
    "# Clean special characters.\n",
    "order_products['Products_mod'] = order_products['Products_mod'].str.replace('\\W', ' ')\n",
    "\n",
    "#consider stemming (word root)\n",
    "\n",
    "# Split products into terms: Tokenize.\n",
    "order_products['Products_mod'] = order_products['Products_mod'].str.split()\n",
    "order_products.head()"
   ]
  },
  {
   "cell_type": "code",
   "execution_count": 76,
   "metadata": {},
   "outputs": [],
   "source": [
    "#limit number of orders to reduce runtime\n",
    "orders_filter = order_products_prior[order_products_prior.order_id < 100000]"
   ]
  },
  {
   "cell_type": "code",
   "execution_count": 77,
   "metadata": {},
   "outputs": [],
   "source": [
    "baskets = orders_filter.groupby('order_id')['product_id'].apply(list)"
   ]
  },
  {
   "cell_type": "code",
   "execution_count": 78,
   "metadata": {},
   "outputs": [
    {
     "name": "stderr",
     "output_type": "stream",
     "text": [
      "93947it [00:04, 19753.43it/s]\n"
     ]
    }
   ],
   "source": [
    "import time\n",
    "basket_w2v = dict()\n",
    "for index, row in tqdm(baskets.items()):\n",
    "    word_vector = list()\n",
    "    for item_id in row:\n",
    "        word_vector.append(u.get_item_vector(item_id))\n",
    "    basket_w2v[index] = np.average(word_vector, axis=0)"
   ]
  },
  {
   "cell_type": "code",
   "execution_count": 79,
   "metadata": {},
   "outputs": [
    {
     "data": {
      "text/html": [
       "<div>\n",
       "<style scoped>\n",
       "    .dataframe tbody tr th:only-of-type {\n",
       "        vertical-align: middle;\n",
       "    }\n",
       "\n",
       "    .dataframe tbody tr th {\n",
       "        vertical-align: top;\n",
       "    }\n",
       "\n",
       "    .dataframe thead th {\n",
       "        text-align: right;\n",
       "    }\n",
       "</style>\n",
       "<table border=\"1\" class=\"dataframe\">\n",
       "  <thead>\n",
       "    <tr style=\"text-align: right;\">\n",
       "      <th></th>\n",
       "      <th>product_id</th>\n",
       "      <th>vectors</th>\n",
       "    </tr>\n",
       "    <tr>\n",
       "      <th>order_id</th>\n",
       "      <th></th>\n",
       "      <th></th>\n",
       "    </tr>\n",
       "  </thead>\n",
       "  <tbody>\n",
       "    <tr>\n",
       "      <th>2</th>\n",
       "      <td>[33120, 28985, 9327, 45918, 30035, 17794, 4014...</td>\n",
       "      <td>(0.09693860676553515, 1.029512267973688, 0.348...</td>\n",
       "    </tr>\n",
       "    <tr>\n",
       "      <th>3</th>\n",
       "      <td>[33754, 24838, 17704, 21903, 17668, 46667, 174...</td>\n",
       "      <td>(0.4608045076020062, 1.1676642838865519, -0.04...</td>\n",
       "    </tr>\n",
       "    <tr>\n",
       "      <th>4</th>\n",
       "      <td>[46842, 26434, 39758, 27761, 10054, 21351, 225...</td>\n",
       "      <td>(-0.37446783024531144, 1.9647282453683705, -0....</td>\n",
       "    </tr>\n",
       "    <tr>\n",
       "      <th>5</th>\n",
       "      <td>[13176, 15005, 47329, 27966, 23909, 48370, 132...</td>\n",
       "      <td>(0.2469972796165026, 0.8852925915271044, -0.00...</td>\n",
       "    </tr>\n",
       "    <tr>\n",
       "      <th>6</th>\n",
       "      <td>[40462, 15873, 41897]</td>\n",
       "      <td>(-1.3472444415092468, 1.2235261003176372, 0.49...</td>\n",
       "    </tr>\n",
       "  </tbody>\n",
       "</table>\n",
       "</div>"
      ],
      "text/plain": [
       "                                                 product_id  \\\n",
       "order_id                                                      \n",
       "2         [33120, 28985, 9327, 45918, 30035, 17794, 4014...   \n",
       "3         [33754, 24838, 17704, 21903, 17668, 46667, 174...   \n",
       "4         [46842, 26434, 39758, 27761, 10054, 21351, 225...   \n",
       "5         [13176, 15005, 47329, 27966, 23909, 48370, 132...   \n",
       "6                                     [40462, 15873, 41897]   \n",
       "\n",
       "                                                    vectors  \n",
       "order_id                                                     \n",
       "2         (0.09693860676553515, 1.029512267973688, 0.348...  \n",
       "3         (0.4608045076020062, 1.1676642838865519, -0.04...  \n",
       "4         (-0.37446783024531144, 1.9647282453683705, -0....  \n",
       "5         (0.2469972796165026, 0.8852925915271044, -0.00...  \n",
       "6         (-1.3472444415092468, 1.2235261003176372, 0.49...  "
      ]
     },
     "execution_count": 79,
     "metadata": {},
     "output_type": "execute_result"
    }
   ],
   "source": [
    "#create dataframe from basket list\n",
    "df_baskets = baskets.to_frame()\n",
    "df_baskets['vectors']  =   basket_w2v.values()\n",
    "df_baskets.head()"
   ]
  },
  {
   "cell_type": "code",
   "execution_count": 80,
   "metadata": {},
   "outputs": [
    {
     "data": {
      "text/plain": [
       "True"
      ]
     },
     "execution_count": 80,
     "metadata": {},
     "output_type": "execute_result"
    }
   ],
   "source": [
    "b = AnnoyIndex(f, metric='angular') \n",
    "# We can sequentially add items.\n",
    "for index, row in df_baskets.iterrows():\n",
    "    b.add_item(row.name, row['vectors'])\n",
    "\n",
    "# Number of trees for queries. When making a query the more trees the easier it is to go down the right path. \n",
    "b.build(10) # 10 trees"
   ]
  },
  {
   "cell_type": "code",
   "execution_count": 81,
   "metadata": {},
   "outputs": [],
   "source": [
    "# create order-ID and product-description dictionary\n",
    "ords_dict = order_products.groupby('order_id')['product_name'].apply(list).to_dict()"
   ]
  },
  {
   "cell_type": "code",
   "execution_count": 82,
   "metadata": {},
   "outputs": [],
   "source": [
    "#define function to recommend similar orders / baskets\n",
    "#input is the order id and the number of recommended products (n)\n",
    "\n",
    "def similar_orders(order_id, n = 5):\n",
    "    \n",
    "    # extract most similar products for the input id\n",
    "    ms = u.get_nns_by_item(order_id, n)\n",
    "    \n",
    "    # extract name and similarity score of the similar products\n",
    "    new_ms = list()\n",
    "    for x in ms:\n",
    "        prod_name = {key: value for key, value in ords_dict.items() if key == x}\n",
    "        new_ms.append(prod_name)\n",
    "        \n",
    "    return new_ms   "
   ]
  },
  {
   "cell_type": "code",
   "execution_count": 83,
   "metadata": {
    "scrolled": true
   },
   "outputs": [
    {
     "data": {
      "text/plain": [
       "[{2.0: ['Organic Egg Whites',\n",
       "   'Michigan Organic Kale',\n",
       "   'Garlic Powder',\n",
       "   'Coconut Butter',\n",
       "   'Natural Sweetener',\n",
       "   'Carrots',\n",
       "   'Original Unflavored Gelatine Mix',\n",
       "   'All Natural No Stir Creamy Almond Butter',\n",
       "   'Classic Blend Cole Slaw']},\n",
       " {16820.0: ['Banana',\n",
       "   'Organic Half & Half',\n",
       "   'Organic Whole Milk',\n",
       "   'Organic Baby Spinach Salad',\n",
       "   'Organic Unsweetened Almond Milk',\n",
       "   \"Organic D'Anjou Pears\",\n",
       "   'Organic Fuji Apple',\n",
       "   'Organic Roasted Turkey Breast',\n",
       "   'Organic Roasted Sliced Chicken Breast',\n",
       "   'Uncured Black Forest Ham',\n",
       "   'Whipped Cream Cheese',\n",
       "   'Organic  Sweet & Salty Peanut Pretzel Granola Bars',\n",
       "   'Honey Oat Crunch Trail Mix Crunchy Granola Bars',\n",
       "   'Pretzel Rods',\n",
       "   'Maple Greek Yogurt',\n",
       "   'Layered Dark Chocolate Coconut Granola Bars',\n",
       "   'Blueberry Yogurt',\n",
       "   '0% Fat Strawberry Greek Yogurt',\n",
       "   'Artisanal Nonfat Coffee Greek Yogurt']},\n",
       " {10927.0: ['Unsalted Butter',\n",
       "   'Organic Large Grade A Brown Eggs',\n",
       "   'Large Grapefruit',\n",
       "   'Organic Gluten Free Sea Salt by the Seashore Multigrain Tortilla Chips',\n",
       "   'Organic Italian Salad',\n",
       "   'Minis, Coconut Milk, Non-Dairy Frozen Dessert, no sugar added Vanilla Bar',\n",
       "   \"Cookies 'N Cream Coconut Milk Frozen Dessert\"]},\n",
       " {11096.0: ['Natural Artesian Water',\n",
       "   'Chicken & Vegetable Snack Sticks for Dogs']},\n",
       " {36736.0: ['Mini Cucumbers',\n",
       "   'Soy Free Buttery Spread',\n",
       "   'Italian Salad Blend',\n",
       "   'Automatic Toilet Bowl Cleaner with Bleach']}]"
      ]
     },
     "execution_count": 83,
     "metadata": {},
     "output_type": "execute_result"
    }
   ],
   "source": [
    "similar_orders(2,5)"
   ]
  },
  {
   "cell_type": "markdown",
   "metadata": {},
   "source": [
    "In the case of baskets, comparing the recommendations is a bit more subjective but it seems that the recommendations do make sense and in the example above are fairly similar (organic, fresh products)"
   ]
  },
  {
   "cell_type": "code",
   "execution_count": 84,
   "metadata": {},
   "outputs": [],
   "source": [
    "#to visualize similarities we're going to use the tsne library used previously in this notebook"
   ]
  },
  {
   "cell_type": "code",
   "execution_count": 91,
   "metadata": {},
   "outputs": [
    {
     "data": {
      "text/html": [
       "<div>\n",
       "<style scoped>\n",
       "    .dataframe tbody tr th:only-of-type {\n",
       "        vertical-align: middle;\n",
       "    }\n",
       "\n",
       "    .dataframe tbody tr th {\n",
       "        vertical-align: top;\n",
       "    }\n",
       "\n",
       "    .dataframe thead th {\n",
       "        text-align: right;\n",
       "    }\n",
       "</style>\n",
       "<table border=\"1\" class=\"dataframe\">\n",
       "  <thead>\n",
       "    <tr style=\"text-align: right;\">\n",
       "      <th></th>\n",
       "      <th>product_id</th>\n",
       "      <th>vectors</th>\n",
       "      <th>department</th>\n",
       "      <th>Products_mod</th>\n",
       "      <th>department_id</th>\n",
       "    </tr>\n",
       "    <tr>\n",
       "      <th>order_id</th>\n",
       "      <th></th>\n",
       "      <th></th>\n",
       "      <th></th>\n",
       "      <th></th>\n",
       "      <th></th>\n",
       "    </tr>\n",
       "  </thead>\n",
       "  <tbody>\n",
       "    <tr>\n",
       "      <th>2</th>\n",
       "      <td>[33120, 28985, 9327, 45918, 30035, 17794, 4014...</td>\n",
       "      <td>(0.09693860676553515, 1.029512267973688, 0.348...</td>\n",
       "      <td>dairy eggs</td>\n",
       "      <td>[organic, egg, whites]</td>\n",
       "      <td>16</td>\n",
       "    </tr>\n",
       "    <tr>\n",
       "      <th>3</th>\n",
       "      <td>[33754, 24838, 17704, 21903, 17668, 46667, 174...</td>\n",
       "      <td>(0.4608045076020062, 1.1676642838865519, -0.04...</td>\n",
       "      <td>dairy eggs</td>\n",
       "      <td>[organic, egg, whites]</td>\n",
       "      <td>16</td>\n",
       "    </tr>\n",
       "    <tr>\n",
       "      <th>4</th>\n",
       "      <td>[46842, 26434, 39758, 27761, 10054, 21351, 225...</td>\n",
       "      <td>(-0.37446783024531144, 1.9647282453683705, -0....</td>\n",
       "      <td>dairy eggs</td>\n",
       "      <td>[organic, egg, whites]</td>\n",
       "      <td>16</td>\n",
       "    </tr>\n",
       "    <tr>\n",
       "      <th>5</th>\n",
       "      <td>[13176, 15005, 47329, 27966, 23909, 48370, 132...</td>\n",
       "      <td>(0.2469972796165026, 0.8852925915271044, -0.00...</td>\n",
       "      <td>dairy eggs</td>\n",
       "      <td>[organic, egg, whites]</td>\n",
       "      <td>16</td>\n",
       "    </tr>\n",
       "    <tr>\n",
       "      <th>6</th>\n",
       "      <td>[40462, 15873, 41897]</td>\n",
       "      <td>(-1.3472444415092468, 1.2235261003176372, 0.49...</td>\n",
       "      <td>dairy eggs</td>\n",
       "      <td>[organic, egg, whites]</td>\n",
       "      <td>16</td>\n",
       "    </tr>\n",
       "  </tbody>\n",
       "</table>\n",
       "</div>"
      ],
      "text/plain": [
       "                                                 product_id  \\\n",
       "order_id                                                      \n",
       "2         [33120, 28985, 9327, 45918, 30035, 17794, 4014...   \n",
       "3         [33754, 24838, 17704, 21903, 17668, 46667, 174...   \n",
       "4         [46842, 26434, 39758, 27761, 10054, 21351, 225...   \n",
       "5         [13176, 15005, 47329, 27966, 23909, 48370, 132...   \n",
       "6                                     [40462, 15873, 41897]   \n",
       "\n",
       "                                                    vectors  department  \\\n",
       "order_id                                                                  \n",
       "2         (0.09693860676553515, 1.029512267973688, 0.348...  dairy eggs   \n",
       "3         (0.4608045076020062, 1.1676642838865519, -0.04...  dairy eggs   \n",
       "4         (-0.37446783024531144, 1.9647282453683705, -0....  dairy eggs   \n",
       "5         (0.2469972796165026, 0.8852925915271044, -0.00...  dairy eggs   \n",
       "6         (-1.3472444415092468, 1.2235261003176372, 0.49...  dairy eggs   \n",
       "\n",
       "                    Products_mod  department_id  \n",
       "order_id                                         \n",
       "2         [organic, egg, whites]             16  \n",
       "3         [organic, egg, whites]             16  \n",
       "4         [organic, egg, whites]             16  \n",
       "5         [organic, egg, whites]             16  \n",
       "6         [organic, egg, whites]             16  "
      ]
     },
     "execution_count": 91,
     "metadata": {},
     "output_type": "execute_result"
    }
   ],
   "source": [
    "#add department to the basket df\n",
    "df_baskets['department_id'] = order_products['department_id']\n",
    "df_baskets['Products_mod'] = order_products['Products_mod']\n",
    "df_baskets.head()"
   ]
  },
  {
   "cell_type": "code",
   "execution_count": 92,
   "metadata": {},
   "outputs": [
    {
     "data": {
      "text/html": [
       "<div>\n",
       "<style scoped>\n",
       "    .dataframe tbody tr th:only-of-type {\n",
       "        vertical-align: middle;\n",
       "    }\n",
       "\n",
       "    .dataframe tbody tr th {\n",
       "        vertical-align: top;\n",
       "    }\n",
       "\n",
       "    .dataframe thead th {\n",
       "        text-align: right;\n",
       "    }\n",
       "</style>\n",
       "<table border=\"1\" class=\"dataframe\">\n",
       "  <thead>\n",
       "    <tr style=\"text-align: right;\">\n",
       "      <th></th>\n",
       "      <th>product_id</th>\n",
       "      <th>vectors</th>\n",
       "      <th>department</th>\n",
       "      <th>Products_mod</th>\n",
       "      <th>department_id</th>\n",
       "    </tr>\n",
       "    <tr>\n",
       "      <th>order_id</th>\n",
       "      <th></th>\n",
       "      <th></th>\n",
       "      <th></th>\n",
       "      <th></th>\n",
       "      <th></th>\n",
       "    </tr>\n",
       "  </thead>\n",
       "  <tbody>\n",
       "    <tr>\n",
       "      <th>66764</th>\n",
       "      <td>[33401, 30953, 37646, 6860]</td>\n",
       "      <td>(0.6191958412528038, 0.5446031130850315, 0.161...</td>\n",
       "      <td>produce</td>\n",
       "      <td>[michigan, organic, kale]</td>\n",
       "      <td>4</td>\n",
       "    </tr>\n",
       "    <tr>\n",
       "      <th>88439</th>\n",
       "      <td>[27845, 41290, 21137, 38689, 49683, 45309]</td>\n",
       "      <td>(0.32436175147692364, 1.8129418243964512, -0.0...</td>\n",
       "      <td>pantry</td>\n",
       "      <td>[garlic, powder]</td>\n",
       "      <td>13</td>\n",
       "    </tr>\n",
       "    <tr>\n",
       "      <th>74920</th>\n",
       "      <td>[10326]</td>\n",
       "      <td>(0.8305402994155884, 0.7020441293716431, 0.433...</td>\n",
       "      <td>produce</td>\n",
       "      <td>[michigan, organic, kale]</td>\n",
       "      <td>4</td>\n",
       "    </tr>\n",
       "    <tr>\n",
       "      <th>45742</th>\n",
       "      <td>[40174, 10912, 8277, 33125, 7781, 13176, 4793,...</td>\n",
       "      <td>(0.12356960126443912, 1.0973681984959465, -0.0...</td>\n",
       "      <td>produce</td>\n",
       "      <td>[michigan, organic, kale]</td>\n",
       "      <td>4</td>\n",
       "    </tr>\n",
       "    <tr>\n",
       "      <th>76649</th>\n",
       "      <td>[13263, 1463, 46676, 11499, 6375]</td>\n",
       "      <td>(-0.053331265971064565, 2.7680059909820556, -0...</td>\n",
       "      <td>produce</td>\n",
       "      <td>[michigan, organic, kale]</td>\n",
       "      <td>4</td>\n",
       "    </tr>\n",
       "  </tbody>\n",
       "</table>\n",
       "</div>"
      ],
      "text/plain": [
       "                                                 product_id  \\\n",
       "order_id                                                      \n",
       "66764                           [33401, 30953, 37646, 6860]   \n",
       "88439            [27845, 41290, 21137, 38689, 49683, 45309]   \n",
       "74920                                               [10326]   \n",
       "45742     [40174, 10912, 8277, 33125, 7781, 13176, 4793,...   \n",
       "76649                     [13263, 1463, 46676, 11499, 6375]   \n",
       "\n",
       "                                                    vectors department  \\\n",
       "order_id                                                                 \n",
       "66764     (0.6191958412528038, 0.5446031130850315, 0.161...    produce   \n",
       "88439     (0.32436175147692364, 1.8129418243964512, -0.0...     pantry   \n",
       "74920     (0.8305402994155884, 0.7020441293716431, 0.433...    produce   \n",
       "45742     (0.12356960126443912, 1.0973681984959465, -0.0...    produce   \n",
       "76649     (-0.053331265971064565, 2.7680059909820556, -0...    produce   \n",
       "\n",
       "                       Products_mod  department_id  \n",
       "order_id                                            \n",
       "66764     [michigan, organic, kale]              4  \n",
       "88439              [garlic, powder]             13  \n",
       "74920     [michigan, organic, kale]              4  \n",
       "45742     [michigan, organic, kale]              4  \n",
       "76649     [michigan, organic, kale]              4  "
      ]
     },
     "execution_count": 92,
     "metadata": {},
     "output_type": "execute_result"
    }
   ],
   "source": [
    "# Create a dataframe to make it easier to sample. \n",
    "# Around 10000 examples is acceptable. \n",
    "basket_tsne_data = df_baskets.sample(n=10000, random_state=1)\n",
    "basket_tsne_data.head()"
   ]
  },
  {
   "cell_type": "code",
   "execution_count": 93,
   "metadata": {},
   "outputs": [],
   "source": [
    "# Import the SKLEARN LIBRARY\n",
    "from sklearn.manifold import TSNE\n",
    "import matplotlib.pyplot as plt\n",
    "%matplotlib inline\n",
    "\n",
    "# Train the TSNE MODEL\n",
    "tsne_model = TSNE(perplexity=30, n_components=2, init='pca', n_iter=3500, random_state=23)\n",
    "new_values = tsne_model.fit_transform(list(basket_tsne_data['vectors']))"
   ]
  },
  {
   "cell_type": "code",
   "execution_count": 94,
   "metadata": {},
   "outputs": [],
   "source": [
    "# We want to recover also the texts to understand what's going on. \n",
    "w2vec_tsne = basket_tsne_data['vectors']\n",
    "sentences = basket_tsne_data['Products_mod']"
   ]
  },
  {
   "cell_type": "code",
   "execution_count": 95,
   "metadata": {},
   "outputs": [
    {
     "data": {
      "text/plain": [
       "'basic-scatter_normal.html'"
      ]
     },
     "execution_count": 95,
     "metadata": {},
     "output_type": "execute_result"
    }
   ],
   "source": [
    "import plotly.offline as pyo\n",
    "import plotly.graph_objs as go\n",
    "from plotly.tools import FigureFactory as FF\n",
    "\n",
    "%matplotlib inline\n",
    "\n",
    "\n",
    "x = list()\n",
    "y = list()\n",
    "for i in range(new_values.shape[0]):\n",
    "    x.append(new_values[i][0])\n",
    "    y.append(new_values[i][1])\n",
    "    \n",
    "# Create random data with numpy\n",
    "\n",
    "# Create a trace\n",
    "trace = go.Scatter(\n",
    "    x = x,\n",
    "    y = y,\n",
    "    mode = 'markers',\n",
    "    text = sentences,\n",
    "    hoverinfo = 'text',\n",
    "    marker=dict(color=list(basket_tsne_data['department_id']), colorscale='Viridis',),\n",
    "\n",
    ")\n",
    "\n",
    "data = [trace]\n",
    "\n",
    "# Plot and embed in ipython notebook!\n",
    "pyo.plot(data, filename='basic-scatter_normal.html')"
   ]
  },
  {
   "cell_type": "markdown",
   "metadata": {},
   "source": [
    "There is no clear pattern to be observed in the plot in terms of department_id. This could due to different reason:\n",
    "- since this a 2D picture, a third dimension could explain more of the similarity\n",
    "- the added department_id is actually not the most relevant for explaining similarity (and they are common in most baskets)\n",
    "- the recommended baskets are actually not that similar"
   ]
  },
  {
   "cell_type": "code",
   "execution_count": null,
   "metadata": {},
   "outputs": [],
   "source": []
  }
 ],
 "metadata": {
  "kernelspec": {
   "display_name": "Python 3",
   "language": "python",
   "name": "python3"
  },
  "language_info": {
   "codemirror_mode": {
    "name": "ipython",
    "version": 3
   },
   "file_extension": ".py",
   "mimetype": "text/x-python",
   "name": "python",
   "nbconvert_exporter": "python",
   "pygments_lexer": "ipython3",
   "version": "3.7.6"
  }
 },
 "nbformat": 4,
 "nbformat_minor": 4
}
